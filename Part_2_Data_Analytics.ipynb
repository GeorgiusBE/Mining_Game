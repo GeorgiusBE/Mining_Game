{
 "cells": [
  {
   "cell_type": "markdown",
   "id": "bc981263-834f-4e60-bd25-933755fe0080",
   "metadata": {},
   "source": [
    "# Data Analytics"
   ]
  },
  {
   "cell_type": "code",
   "execution_count": 1115,
   "id": "96d01b80-6c4f-4a4c-8f6a-df225da9e078",
   "metadata": {},
   "outputs": [],
   "source": [
    "# importing libraries\n",
    "import requests\n",
    "import pandas as pd\n",
    "import numpy as np\n",
    "import scipy as sp\n",
    "import matplotlib.pyplot as plt\n",
    "import seaborn as sns"
   ]
  },
  {
   "cell_type": "markdown",
   "id": "7f93e001-6293-4115-a203-248d19540b67",
   "metadata": {},
   "source": [
    "## 1. Crawl Dataset\n",
    "\n",
    "Perform web scraping on Yahoo Finance to obtain daily stock data of Nvidia from 1 January 2021 to 31 December 2023.\n",
    "- What are the variables of interest?\n",
    "- How was the data scraped/collected?"
   ]
  },
  {
   "cell_type": "code",
   "execution_count": 703,
   "id": "63f5f971-a1df-4e83-b95c-0f20011b474e",
   "metadata": {},
   "outputs": [],
   "source": [
    "# scrape stock data\n",
    "url = 'https://finance.yahoo.com/quote/NVDA/history/?period1=1609459200&period2=1703980800'\n",
    "r = requests.get(url, headers={'User-Agent':'Mozilla/5.0'})"
   ]
  },
  {
   "cell_type": "code",
   "execution_count": 705,
   "id": "627a6cd2-0931-42f8-aa3d-20082a5076c9",
   "metadata": {},
   "outputs": [
    {
     "data": {
      "text/html": [
       "<div>\n",
       "<style scoped>\n",
       "    .dataframe tbody tr th:only-of-type {\n",
       "        vertical-align: middle;\n",
       "    }\n",
       "\n",
       "    .dataframe tbody tr th {\n",
       "        vertical-align: top;\n",
       "    }\n",
       "\n",
       "    .dataframe thead th {\n",
       "        text-align: right;\n",
       "    }\n",
       "</style>\n",
       "<table border=\"1\" class=\"dataframe\">\n",
       "  <thead>\n",
       "    <tr style=\"text-align: right;\">\n",
       "      <th></th>\n",
       "      <th>Date</th>\n",
       "      <th>Open</th>\n",
       "      <th>High</th>\n",
       "      <th>Low</th>\n",
       "      <th>Close Close price adjusted for splits.</th>\n",
       "      <th>Adj Close Adjusted close price adjusted for splits and dividend and/or capital gain distributions.</th>\n",
       "      <th>Volume</th>\n",
       "    </tr>\n",
       "  </thead>\n",
       "  <tbody>\n",
       "    <tr>\n",
       "      <th>0</th>\n",
       "      <td>Dec 29, 2023</td>\n",
       "      <td>49.81</td>\n",
       "      <td>50.00</td>\n",
       "      <td>48.75</td>\n",
       "      <td>49.52</td>\n",
       "      <td>49.51</td>\n",
       "      <td>389293000</td>\n",
       "    </tr>\n",
       "    <tr>\n",
       "      <th>1</th>\n",
       "      <td>Dec 28, 2023</td>\n",
       "      <td>49.64</td>\n",
       "      <td>49.88</td>\n",
       "      <td>49.41</td>\n",
       "      <td>49.52</td>\n",
       "      <td>49.51</td>\n",
       "      <td>246587000</td>\n",
       "    </tr>\n",
       "    <tr>\n",
       "      <th>2</th>\n",
       "      <td>Dec 27, 2023</td>\n",
       "      <td>49.51</td>\n",
       "      <td>49.68</td>\n",
       "      <td>49.08</td>\n",
       "      <td>49.42</td>\n",
       "      <td>49.41</td>\n",
       "      <td>233648000</td>\n",
       "    </tr>\n",
       "    <tr>\n",
       "      <th>3</th>\n",
       "      <td>Dec 26, 2023</td>\n",
       "      <td>48.97</td>\n",
       "      <td>49.60</td>\n",
       "      <td>48.96</td>\n",
       "      <td>49.28</td>\n",
       "      <td>49.27</td>\n",
       "      <td>244200000</td>\n",
       "    </tr>\n",
       "    <tr>\n",
       "      <th>4</th>\n",
       "      <td>Dec 22, 2023</td>\n",
       "      <td>49.19</td>\n",
       "      <td>49.38</td>\n",
       "      <td>48.47</td>\n",
       "      <td>48.83</td>\n",
       "      <td>48.82</td>\n",
       "      <td>252507000</td>\n",
       "    </tr>\n",
       "    <tr>\n",
       "      <th>...</th>\n",
       "      <td>...</td>\n",
       "      <td>...</td>\n",
       "      <td>...</td>\n",
       "      <td>...</td>\n",
       "      <td>...</td>\n",
       "      <td>...</td>\n",
       "      <td>...</td>\n",
       "    </tr>\n",
       "    <tr>\n",
       "      <th>761</th>\n",
       "      <td>Jan 8, 2021</td>\n",
       "      <td>13.36</td>\n",
       "      <td>13.42</td>\n",
       "      <td>13.04</td>\n",
       "      <td>13.28</td>\n",
       "      <td>13.24</td>\n",
       "      <td>292528000</td>\n",
       "    </tr>\n",
       "    <tr>\n",
       "      <th>762</th>\n",
       "      <td>Jan 7, 2021</td>\n",
       "      <td>12.97</td>\n",
       "      <td>13.38</td>\n",
       "      <td>12.89</td>\n",
       "      <td>13.34</td>\n",
       "      <td>13.31</td>\n",
       "      <td>461480000</td>\n",
       "    </tr>\n",
       "    <tr>\n",
       "      <th>763</th>\n",
       "      <td>Jan 6, 2021</td>\n",
       "      <td>13.22</td>\n",
       "      <td>13.24</td>\n",
       "      <td>12.59</td>\n",
       "      <td>12.61</td>\n",
       "      <td>12.58</td>\n",
       "      <td>580424000</td>\n",
       "    </tr>\n",
       "    <tr>\n",
       "      <th>764</th>\n",
       "      <td>Jan 5, 2021</td>\n",
       "      <td>13.10</td>\n",
       "      <td>13.44</td>\n",
       "      <td>13.09</td>\n",
       "      <td>13.40</td>\n",
       "      <td>13.37</td>\n",
       "      <td>322760000</td>\n",
       "    </tr>\n",
       "    <tr>\n",
       "      <th>765</th>\n",
       "      <td>Jan 4, 2021</td>\n",
       "      <td>13.10</td>\n",
       "      <td>13.65</td>\n",
       "      <td>12.96</td>\n",
       "      <td>13.11</td>\n",
       "      <td>13.08</td>\n",
       "      <td>560640000</td>\n",
       "    </tr>\n",
       "  </tbody>\n",
       "</table>\n",
       "<p>766 rows × 7 columns</p>\n",
       "</div>"
      ],
      "text/plain": [
       "             Date   Open   High    Low Close Close price adjusted for splits.  \\\n",
       "0    Dec 29, 2023  49.81  50.00  48.75                                  49.52   \n",
       "1    Dec 28, 2023  49.64  49.88  49.41                                  49.52   \n",
       "2    Dec 27, 2023  49.51  49.68  49.08                                  49.42   \n",
       "3    Dec 26, 2023  48.97  49.60  48.96                                  49.28   \n",
       "4    Dec 22, 2023  49.19  49.38  48.47                                  48.83   \n",
       "..            ...    ...    ...    ...                                    ...   \n",
       "761   Jan 8, 2021  13.36  13.42  13.04                                  13.28   \n",
       "762   Jan 7, 2021  12.97  13.38  12.89                                  13.34   \n",
       "763   Jan 6, 2021  13.22  13.24  12.59                                  12.61   \n",
       "764   Jan 5, 2021  13.10  13.44  13.09                                  13.40   \n",
       "765   Jan 4, 2021  13.10  13.65  12.96                                  13.11   \n",
       "\n",
       "    Adj Close Adjusted close price adjusted for splits and dividend and/or capital gain distributions.  \\\n",
       "0                                                49.51                                                   \n",
       "1                                                49.51                                                   \n",
       "2                                                49.41                                                   \n",
       "3                                                49.27                                                   \n",
       "4                                                48.82                                                   \n",
       "..                                                 ...                                                   \n",
       "761                                              13.24                                                   \n",
       "762                                              13.31                                                   \n",
       "763                                              12.58                                                   \n",
       "764                                              13.37                                                   \n",
       "765                                              13.08                                                   \n",
       "\n",
       "        Volume  \n",
       "0    389293000  \n",
       "1    246587000  \n",
       "2    233648000  \n",
       "3    244200000  \n",
       "4    252507000  \n",
       "..         ...  \n",
       "761  292528000  \n",
       "762  461480000  \n",
       "763  580424000  \n",
       "764  322760000  \n",
       "765  560640000  \n",
       "\n",
       "[766 rows x 7 columns]"
      ]
     },
     "execution_count": 705,
     "metadata": {},
     "output_type": "execute_result"
    }
   ],
   "source": [
    "# covert html table into dataframe\n",
    "read_html_pandas_data = pd.read_html(r.text)[0]\n",
    "read_html_pandas_data"
   ]
  },
  {
   "cell_type": "code",
   "execution_count": 707,
   "id": "c43c995d-cef1-41f3-9675-289636672666",
   "metadata": {},
   "outputs": [],
   "source": [
    "# export dataframe to CSV file\n",
    "read_html_pandas_data.to_csv('NVDA_stock_data.csv', index=False)"
   ]
  },
  {
   "cell_type": "markdown",
   "id": "54cb30d7-9d73-4eb5-b8f6-3ef63b5d4930",
   "metadata": {},
   "source": [
    "## 2a.  Data Preparation & Cleaning"
   ]
  },
  {
   "cell_type": "code",
   "execution_count": 1221,
   "id": "902c0b74-5c0a-4432-b40d-e885649a131d",
   "metadata": {},
   "outputs": [],
   "source": [
    "# create a copy\n",
    "df = read_html_pandas_data.copy()"
   ]
  },
  {
   "cell_type": "code",
   "execution_count": 1223,
   "id": "c302c062-0570-418c-903d-b9a6008c7775",
   "metadata": {},
   "outputs": [],
   "source": [
    "# renaming the columns\n",
    "df.columns = ['Date', 'Open', 'High', 'Low', 'Close', 'Adj Close', 'Volume']"
   ]
  },
  {
   "cell_type": "code",
   "execution_count": 1225,
   "id": "6eda5db8-ed81-4e6e-85a8-3dae32126810",
   "metadata": {},
   "outputs": [
    {
     "name": "stdout",
     "output_type": "stream",
     "text": [
      "Number of rows: 766\n",
      "Number of columns: 7\n"
     ]
    }
   ],
   "source": [
    "# the number of rows\n",
    "print(f'Number of rows: {df.shape[0]}')\n",
    "\n",
    "# the number of columns\n",
    "print(f'Number of columns: {df.shape[1]}')"
   ]
  },
  {
   "cell_type": "code",
   "execution_count": 1227,
   "id": "69d6e302-9689-4881-96b6-8fad581b3896",
   "metadata": {},
   "outputs": [
    {
     "data": {
      "text/plain": [
       "Date         0\n",
       "Open         0\n",
       "High         0\n",
       "Low          0\n",
       "Close        0\n",
       "Adj Close    0\n",
       "Volume       0\n",
       "dtype: int64"
      ]
     },
     "execution_count": 1227,
     "metadata": {},
     "output_type": "execute_result"
    }
   ],
   "source": [
    "# Checking for nulls in the table\n",
    "df.isnull().sum()"
   ]
  },
  {
   "cell_type": "markdown",
   "id": "a6e00cd0-7401-48db-bdee-7bbba834aa66",
   "metadata": {},
   "source": [
    "There are no null values in the table."
   ]
  },
  {
   "cell_type": "code",
   "execution_count": 1230,
   "id": "28100e0e-c2e4-4b4e-bd6b-c2b6adc39645",
   "metadata": {},
   "outputs": [
    {
     "name": "stdout",
     "output_type": "stream",
     "text": [
      "<class 'pandas.core.frame.DataFrame'>\n",
      "RangeIndex: 766 entries, 0 to 765\n",
      "Data columns (total 7 columns):\n",
      " #   Column     Non-Null Count  Dtype \n",
      "---  ------     --------------  ----- \n",
      " 0   Date       766 non-null    object\n",
      " 1   Open       766 non-null    object\n",
      " 2   High       766 non-null    object\n",
      " 3   Low        766 non-null    object\n",
      " 4   Close      766 non-null    object\n",
      " 5   Adj Close  766 non-null    object\n",
      " 6   Volume     766 non-null    object\n",
      "dtypes: object(7)\n",
      "memory usage: 42.0+ KB\n"
     ]
    }
   ],
   "source": [
    "# Check the data type for each row\n",
    "df.info()"
   ]
  },
  {
   "cell_type": "markdown",
   "id": "3d56c873-d038-4f35-b14f-8fa3cd9b4831",
   "metadata": {},
   "source": [
    "We observe that all of the columns have the data type `object`, even though we would expect the the `Date` column to have `datetime` data type, `Volume` column to have an `int` or `float` data type, and the rest of the columns to have `float` data type."
   ]
  },
  {
   "cell_type": "markdown",
   "id": "1827ff52-bab3-40ac-8b9e-8f43811dbfe1",
   "metadata": {},
   "source": [
    "### Date column\n",
    "\n",
    "Let's start with the `Date` column. Firstly, we check each row in the column, ensuring that they are all dates but with object data type."
   ]
  },
  {
   "cell_type": "code",
   "execution_count": 1234,
   "id": "38598f6e-f571-4f44-b162-b201b122280e",
   "metadata": {},
   "outputs": [
    {
     "data": {
      "text/plain": [
       "0"
      ]
     },
     "execution_count": 1234,
     "metadata": {},
     "output_type": "execute_result"
    }
   ],
   "source": [
    "# count the number of rows that cannot be converted to datetime\n",
    "pd.to_datetime(df['Date'], errors='coerce').isnull().sum()"
   ]
  },
  {
   "cell_type": "markdown",
   "id": "db489bf1-9115-489c-83ce-b06022b93faa",
   "metadata": {},
   "source": [
    "Based on the result above, we can confirm that the rows in the `Date` column are all dates but with object data type (i.e. all rows can be converted to datetime data type).\n",
    "\n",
    "So the logical next step is to convert the `Date` column's data type into `datetime`,"
   ]
  },
  {
   "cell_type": "code",
   "execution_count": 1237,
   "id": "9c1ce8d5-56f9-4fa0-8d2c-aa62f7c54ffa",
   "metadata": {},
   "outputs": [],
   "source": [
    "# convert data type to datetime\n",
    "df['Date'] = pd.to_datetime(df['Date'], errors='coerce')"
   ]
  },
  {
   "cell_type": "markdown",
   "id": "b3f73ba1-8710-4b72-8ace-a548f7735f63",
   "metadata": {},
   "source": [
    "### The rest of the columns\n",
    "\n",
    "Now, let's take a closer look at the data in the `Open`, `High`, `Low`, `Close`, `Adj Close`, and `Volume` columns.\n",
    "\n",
    "We begin by checking for non-numeric entries in these columns."
   ]
  },
  {
   "cell_type": "code",
   "execution_count": 1240,
   "id": "3f103f13-5794-4ae4-83a9-01e1bc0649b9",
   "metadata": {},
   "outputs": [],
   "source": [
    "# create a copy of df to only store numerical columns\n",
    "df_num = df.copy()\n",
    "\n",
    "# drop the Date column\n",
    "df_num.drop('Date', axis=1, inplace=True)\n",
    "\n",
    "# store numeric columns (to be used later)\n",
    "num_cols = df_num.columns"
   ]
  },
  {
   "cell_type": "code",
   "execution_count": 1242,
   "id": "2cd37b88-c75f-49b8-ad46-84d4f960e1b6",
   "metadata": {},
   "outputs": [
    {
     "data": {
      "text/html": [
       "<div>\n",
       "<style scoped>\n",
       "    .dataframe tbody tr th:only-of-type {\n",
       "        vertical-align: middle;\n",
       "    }\n",
       "\n",
       "    .dataframe tbody tr th {\n",
       "        vertical-align: top;\n",
       "    }\n",
       "\n",
       "    .dataframe thead th {\n",
       "        text-align: right;\n",
       "    }\n",
       "</style>\n",
       "<table border=\"1\" class=\"dataframe\">\n",
       "  <thead>\n",
       "    <tr style=\"text-align: right;\">\n",
       "      <th></th>\n",
       "      <th>Open</th>\n",
       "      <th>High</th>\n",
       "      <th>Low</th>\n",
       "      <th>Close</th>\n",
       "      <th>Adj Close</th>\n",
       "      <th>Volume</th>\n",
       "    </tr>\n",
       "  </thead>\n",
       "  <tbody>\n",
       "    <tr>\n",
       "      <th>17</th>\n",
       "      <td>0.00 Dividend</td>\n",
       "      <td>0.00 Dividend</td>\n",
       "      <td>0.00 Dividend</td>\n",
       "      <td>0.00 Dividend</td>\n",
       "      <td>0.00 Dividend</td>\n",
       "      <td>0.00 Dividend</td>\n",
       "    </tr>\n",
       "    <tr>\n",
       "      <th>81</th>\n",
       "      <td>0.00 Dividend</td>\n",
       "      <td>0.00 Dividend</td>\n",
       "      <td>0.00 Dividend</td>\n",
       "      <td>0.00 Dividend</td>\n",
       "      <td>0.00 Dividend</td>\n",
       "      <td>0.00 Dividend</td>\n",
       "    </tr>\n",
       "    <tr>\n",
       "      <th>144</th>\n",
       "      <td>0.00 Dividend</td>\n",
       "      <td>0.00 Dividend</td>\n",
       "      <td>0.00 Dividend</td>\n",
       "      <td>0.00 Dividend</td>\n",
       "      <td>0.00 Dividend</td>\n",
       "      <td>0.00 Dividend</td>\n",
       "    </tr>\n",
       "    <tr>\n",
       "      <th>209</th>\n",
       "      <td>0.00 Dividend</td>\n",
       "      <td>0.00 Dividend</td>\n",
       "      <td>0.00 Dividend</td>\n",
       "      <td>0.00 Dividend</td>\n",
       "      <td>0.00 Dividend</td>\n",
       "      <td>0.00 Dividend</td>\n",
       "    </tr>\n",
       "    <tr>\n",
       "      <th>275</th>\n",
       "      <td>0.00 Dividend</td>\n",
       "      <td>0.00 Dividend</td>\n",
       "      <td>0.00 Dividend</td>\n",
       "      <td>0.00 Dividend</td>\n",
       "      <td>0.00 Dividend</td>\n",
       "      <td>0.00 Dividend</td>\n",
       "    </tr>\n",
       "    <tr>\n",
       "      <th>335</th>\n",
       "      <td>0.00 Dividend</td>\n",
       "      <td>0.00 Dividend</td>\n",
       "      <td>0.00 Dividend</td>\n",
       "      <td>0.00 Dividend</td>\n",
       "      <td>0.00 Dividend</td>\n",
       "      <td>0.00 Dividend</td>\n",
       "    </tr>\n",
       "    <tr>\n",
       "      <th>398</th>\n",
       "      <td>0.00 Dividend</td>\n",
       "      <td>0.00 Dividend</td>\n",
       "      <td>0.00 Dividend</td>\n",
       "      <td>0.00 Dividend</td>\n",
       "      <td>0.00 Dividend</td>\n",
       "      <td>0.00 Dividend</td>\n",
       "    </tr>\n",
       "    <tr>\n",
       "      <th>467</th>\n",
       "      <td>0.00 Dividend</td>\n",
       "      <td>0.00 Dividend</td>\n",
       "      <td>0.00 Dividend</td>\n",
       "      <td>0.00 Dividend</td>\n",
       "      <td>0.00 Dividend</td>\n",
       "      <td>0.00 Dividend</td>\n",
       "    </tr>\n",
       "    <tr>\n",
       "      <th>530</th>\n",
       "      <td>0.00 Dividend</td>\n",
       "      <td>0.00 Dividend</td>\n",
       "      <td>0.00 Dividend</td>\n",
       "      <td>0.00 Dividend</td>\n",
       "      <td>0.00 Dividend</td>\n",
       "      <td>0.00 Dividend</td>\n",
       "    </tr>\n",
       "    <tr>\n",
       "      <th>595</th>\n",
       "      <td>0.00 Dividend</td>\n",
       "      <td>0.00 Dividend</td>\n",
       "      <td>0.00 Dividend</td>\n",
       "      <td>0.00 Dividend</td>\n",
       "      <td>0.00 Dividend</td>\n",
       "      <td>0.00 Dividend</td>\n",
       "    </tr>\n",
       "    <tr>\n",
       "      <th>626</th>\n",
       "      <td>4:1 Stock Splits</td>\n",
       "      <td>4:1 Stock Splits</td>\n",
       "      <td>4:1 Stock Splits</td>\n",
       "      <td>4:1 Stock Splits</td>\n",
       "      <td>4:1 Stock Splits</td>\n",
       "      <td>4:1 Stock Splits</td>\n",
       "    </tr>\n",
       "    <tr>\n",
       "      <th>655</th>\n",
       "      <td>0.00 Dividend</td>\n",
       "      <td>0.00 Dividend</td>\n",
       "      <td>0.00 Dividend</td>\n",
       "      <td>0.00 Dividend</td>\n",
       "      <td>0.00 Dividend</td>\n",
       "      <td>0.00 Dividend</td>\n",
       "    </tr>\n",
       "    <tr>\n",
       "      <th>720</th>\n",
       "      <td>0.00 Dividend</td>\n",
       "      <td>0.00 Dividend</td>\n",
       "      <td>0.00 Dividend</td>\n",
       "      <td>0.00 Dividend</td>\n",
       "      <td>0.00 Dividend</td>\n",
       "      <td>0.00 Dividend</td>\n",
       "    </tr>\n",
       "  </tbody>\n",
       "</table>\n",
       "</div>"
      ],
      "text/plain": [
       "                 Open              High               Low             Close  \\\n",
       "17      0.00 Dividend     0.00 Dividend     0.00 Dividend     0.00 Dividend   \n",
       "81      0.00 Dividend     0.00 Dividend     0.00 Dividend     0.00 Dividend   \n",
       "144     0.00 Dividend     0.00 Dividend     0.00 Dividend     0.00 Dividend   \n",
       "209     0.00 Dividend     0.00 Dividend     0.00 Dividend     0.00 Dividend   \n",
       "275     0.00 Dividend     0.00 Dividend     0.00 Dividend     0.00 Dividend   \n",
       "335     0.00 Dividend     0.00 Dividend     0.00 Dividend     0.00 Dividend   \n",
       "398     0.00 Dividend     0.00 Dividend     0.00 Dividend     0.00 Dividend   \n",
       "467     0.00 Dividend     0.00 Dividend     0.00 Dividend     0.00 Dividend   \n",
       "530     0.00 Dividend     0.00 Dividend     0.00 Dividend     0.00 Dividend   \n",
       "595     0.00 Dividend     0.00 Dividend     0.00 Dividend     0.00 Dividend   \n",
       "626  4:1 Stock Splits  4:1 Stock Splits  4:1 Stock Splits  4:1 Stock Splits   \n",
       "655     0.00 Dividend     0.00 Dividend     0.00 Dividend     0.00 Dividend   \n",
       "720     0.00 Dividend     0.00 Dividend     0.00 Dividend     0.00 Dividend   \n",
       "\n",
       "            Adj Close            Volume  \n",
       "17      0.00 Dividend     0.00 Dividend  \n",
       "81      0.00 Dividend     0.00 Dividend  \n",
       "144     0.00 Dividend     0.00 Dividend  \n",
       "209     0.00 Dividend     0.00 Dividend  \n",
       "275     0.00 Dividend     0.00 Dividend  \n",
       "335     0.00 Dividend     0.00 Dividend  \n",
       "398     0.00 Dividend     0.00 Dividend  \n",
       "467     0.00 Dividend     0.00 Dividend  \n",
       "530     0.00 Dividend     0.00 Dividend  \n",
       "595     0.00 Dividend     0.00 Dividend  \n",
       "626  4:1 Stock Splits  4:1 Stock Splits  \n",
       "655     0.00 Dividend     0.00 Dividend  \n",
       "720     0.00 Dividend     0.00 Dividend  "
      ]
     },
     "metadata": {},
     "output_type": "display_data"
    }
   ],
   "source": [
    "# create a copy of df\n",
    "df_bool = df_num.copy()\n",
    "\n",
    "# indicate the rows in each column that are non-numeric\n",
    "for col in df_num.columns:\n",
    "    df_bool[col] = pd.to_numeric(df_num[col], errors='coerce').isnull()\n",
    "\n",
    "# locate rows in the dataframe that contain at least 1 non-numeric value\n",
    "ser_bool = df_bool.any(axis=1)\n",
    "\n",
    "# print an extract of the dataframe with rows that contain at least 1 non-numeric value\n",
    "df_num = df_num[ser_bool]\n",
    "display(df_num)"
   ]
  },
  {
   "cell_type": "markdown",
   "id": "5c53d914-5406-4733-ad56-92b72e54e960",
   "metadata": {},
   "source": [
    "From the result above, we can see the rows that contain a least 1 numeric values. Notice that in every column, there are entries that are non-numerical, which explains the reason that Pandas assigns the `object` data type to these columns."
   ]
  },
  {
   "cell_type": "markdown",
   "id": "db3c2ee6-9457-4946-ba45-2c69788270e1",
   "metadata": {},
   "source": [
    "Before we drop these rows, we will take a look at any other data entries with the same date as these dividend payment / stock split events."
   ]
  },
  {
   "cell_type": "code",
   "execution_count": 1246,
   "id": "73686ba1-5f72-4ad5-9473-b7ad16502fa0",
   "metadata": {},
   "outputs": [
    {
     "data": {
      "text/html": [
       "<div>\n",
       "<style scoped>\n",
       "    .dataframe tbody tr th:only-of-type {\n",
       "        vertical-align: middle;\n",
       "    }\n",
       "\n",
       "    .dataframe tbody tr th {\n",
       "        vertical-align: top;\n",
       "    }\n",
       "\n",
       "    .dataframe thead th {\n",
       "        text-align: right;\n",
       "    }\n",
       "</style>\n",
       "<table border=\"1\" class=\"dataframe\">\n",
       "  <thead>\n",
       "    <tr style=\"text-align: right;\">\n",
       "      <th></th>\n",
       "      <th>Date</th>\n",
       "      <th>Open</th>\n",
       "      <th>High</th>\n",
       "      <th>Low</th>\n",
       "      <th>Close</th>\n",
       "      <th>Adj Close</th>\n",
       "      <th>Volume</th>\n",
       "    </tr>\n",
       "  </thead>\n",
       "  <tbody>\n",
       "    <tr>\n",
       "      <th>17</th>\n",
       "      <td>2023-12-05</td>\n",
       "      <td>0.00 Dividend</td>\n",
       "      <td>0.00 Dividend</td>\n",
       "      <td>0.00 Dividend</td>\n",
       "      <td>0.00 Dividend</td>\n",
       "      <td>0.00 Dividend</td>\n",
       "      <td>0.00 Dividend</td>\n",
       "    </tr>\n",
       "    <tr>\n",
       "      <th>18</th>\n",
       "      <td>2023-12-05</td>\n",
       "      <td>45.47</td>\n",
       "      <td>46.60</td>\n",
       "      <td>45.27</td>\n",
       "      <td>46.57</td>\n",
       "      <td>46.56</td>\n",
       "      <td>371718000</td>\n",
       "    </tr>\n",
       "    <tr>\n",
       "      <th>81</th>\n",
       "      <td>2023-09-06</td>\n",
       "      <td>0.00 Dividend</td>\n",
       "      <td>0.00 Dividend</td>\n",
       "      <td>0.00 Dividend</td>\n",
       "      <td>0.00 Dividend</td>\n",
       "      <td>0.00 Dividend</td>\n",
       "      <td>0.00 Dividend</td>\n",
       "    </tr>\n",
       "    <tr>\n",
       "      <th>82</th>\n",
       "      <td>2023-09-06</td>\n",
       "      <td>48.44</td>\n",
       "      <td>48.55</td>\n",
       "      <td>46.58</td>\n",
       "      <td>47.06</td>\n",
       "      <td>47.05</td>\n",
       "      <td>468670000</td>\n",
       "    </tr>\n",
       "    <tr>\n",
       "      <th>144</th>\n",
       "      <td>2023-06-07</td>\n",
       "      <td>0.00 Dividend</td>\n",
       "      <td>0.00 Dividend</td>\n",
       "      <td>0.00 Dividend</td>\n",
       "      <td>0.00 Dividend</td>\n",
       "      <td>0.00 Dividend</td>\n",
       "      <td>0.00 Dividend</td>\n",
       "    </tr>\n",
       "    <tr>\n",
       "      <th>145</th>\n",
       "      <td>2023-06-07</td>\n",
       "      <td>38.92</td>\n",
       "      <td>39.50</td>\n",
       "      <td>37.36</td>\n",
       "      <td>37.47</td>\n",
       "      <td>37.46</td>\n",
       "      <td>511998000</td>\n",
       "    </tr>\n",
       "    <tr>\n",
       "      <th>209</th>\n",
       "      <td>2023-03-07</td>\n",
       "      <td>0.00 Dividend</td>\n",
       "      <td>0.00 Dividend</td>\n",
       "      <td>0.00 Dividend</td>\n",
       "      <td>0.00 Dividend</td>\n",
       "      <td>0.00 Dividend</td>\n",
       "      <td>0.00 Dividend</td>\n",
       "    </tr>\n",
       "    <tr>\n",
       "      <th>210</th>\n",
       "      <td>2023-03-07</td>\n",
       "      <td>23.60</td>\n",
       "      <td>24.13</td>\n",
       "      <td>23.24</td>\n",
       "      <td>23.29</td>\n",
       "      <td>23.28</td>\n",
       "      <td>515154000</td>\n",
       "    </tr>\n",
       "    <tr>\n",
       "      <th>275</th>\n",
       "      <td>2022-11-30</td>\n",
       "      <td>0.00 Dividend</td>\n",
       "      <td>0.00 Dividend</td>\n",
       "      <td>0.00 Dividend</td>\n",
       "      <td>0.00 Dividend</td>\n",
       "      <td>0.00 Dividend</td>\n",
       "      <td>0.00 Dividend</td>\n",
       "    </tr>\n",
       "    <tr>\n",
       "      <th>276</th>\n",
       "      <td>2022-11-30</td>\n",
       "      <td>15.70</td>\n",
       "      <td>16.93</td>\n",
       "      <td>15.60</td>\n",
       "      <td>16.92</td>\n",
       "      <td>16.91</td>\n",
       "      <td>565298000</td>\n",
       "    </tr>\n",
       "    <tr>\n",
       "      <th>335</th>\n",
       "      <td>2022-09-07</td>\n",
       "      <td>0.00 Dividend</td>\n",
       "      <td>0.00 Dividend</td>\n",
       "      <td>0.00 Dividend</td>\n",
       "      <td>0.00 Dividend</td>\n",
       "      <td>0.00 Dividend</td>\n",
       "      <td>0.00 Dividend</td>\n",
       "    </tr>\n",
       "    <tr>\n",
       "      <th>336</th>\n",
       "      <td>2022-09-07</td>\n",
       "      <td>13.56</td>\n",
       "      <td>13.84</td>\n",
       "      <td>13.35</td>\n",
       "      <td>13.71</td>\n",
       "      <td>13.70</td>\n",
       "      <td>512657000</td>\n",
       "    </tr>\n",
       "    <tr>\n",
       "      <th>398</th>\n",
       "      <td>2022-06-08</td>\n",
       "      <td>0.00 Dividend</td>\n",
       "      <td>0.00 Dividend</td>\n",
       "      <td>0.00 Dividend</td>\n",
       "      <td>0.00 Dividend</td>\n",
       "      <td>0.00 Dividend</td>\n",
       "      <td>0.00 Dividend</td>\n",
       "    </tr>\n",
       "    <tr>\n",
       "      <th>399</th>\n",
       "      <td>2022-06-08</td>\n",
       "      <td>18.80</td>\n",
       "      <td>19.18</td>\n",
       "      <td>18.53</td>\n",
       "      <td>18.65</td>\n",
       "      <td>18.63</td>\n",
       "      <td>363252000</td>\n",
       "    </tr>\n",
       "    <tr>\n",
       "      <th>467</th>\n",
       "      <td>2022-03-02</td>\n",
       "      <td>0.00 Dividend</td>\n",
       "      <td>0.00 Dividend</td>\n",
       "      <td>0.00 Dividend</td>\n",
       "      <td>0.00 Dividend</td>\n",
       "      <td>0.00 Dividend</td>\n",
       "      <td>0.00 Dividend</td>\n",
       "    </tr>\n",
       "    <tr>\n",
       "      <th>468</th>\n",
       "      <td>2022-03-02</td>\n",
       "      <td>23.76</td>\n",
       "      <td>24.41</td>\n",
       "      <td>23.42</td>\n",
       "      <td>24.22</td>\n",
       "      <td>24.19</td>\n",
       "      <td>389642000</td>\n",
       "    </tr>\n",
       "    <tr>\n",
       "      <th>530</th>\n",
       "      <td>2021-12-01</td>\n",
       "      <td>0.00 Dividend</td>\n",
       "      <td>0.00 Dividend</td>\n",
       "      <td>0.00 Dividend</td>\n",
       "      <td>0.00 Dividend</td>\n",
       "      <td>0.00 Dividend</td>\n",
       "      <td>0.00 Dividend</td>\n",
       "    </tr>\n",
       "    <tr>\n",
       "      <th>531</th>\n",
       "      <td>2021-12-01</td>\n",
       "      <td>33.22</td>\n",
       "      <td>33.29</td>\n",
       "      <td>31.38</td>\n",
       "      <td>31.43</td>\n",
       "      <td>31.38</td>\n",
       "      <td>484368000</td>\n",
       "    </tr>\n",
       "    <tr>\n",
       "      <th>595</th>\n",
       "      <td>2021-08-31</td>\n",
       "      <td>0.00 Dividend</td>\n",
       "      <td>0.00 Dividend</td>\n",
       "      <td>0.00 Dividend</td>\n",
       "      <td>0.00 Dividend</td>\n",
       "      <td>0.00 Dividend</td>\n",
       "      <td>0.00 Dividend</td>\n",
       "    </tr>\n",
       "    <tr>\n",
       "      <th>596</th>\n",
       "      <td>2021-08-31</td>\n",
       "      <td>22.69</td>\n",
       "      <td>22.69</td>\n",
       "      <td>22.12</td>\n",
       "      <td>22.39</td>\n",
       "      <td>22.35</td>\n",
       "      <td>259850000</td>\n",
       "    </tr>\n",
       "    <tr>\n",
       "      <th>626</th>\n",
       "      <td>2021-07-20</td>\n",
       "      <td>4:1 Stock Splits</td>\n",
       "      <td>4:1 Stock Splits</td>\n",
       "      <td>4:1 Stock Splits</td>\n",
       "      <td>4:1 Stock Splits</td>\n",
       "      <td>4:1 Stock Splits</td>\n",
       "      <td>4:1 Stock Splits</td>\n",
       "    </tr>\n",
       "    <tr>\n",
       "      <th>627</th>\n",
       "      <td>2021-07-20</td>\n",
       "      <td>18.73</td>\n",
       "      <td>18.84</td>\n",
       "      <td>18.16</td>\n",
       "      <td>18.61</td>\n",
       "      <td>18.58</td>\n",
       "      <td>434687000</td>\n",
       "    </tr>\n",
       "    <tr>\n",
       "      <th>655</th>\n",
       "      <td>2021-06-09</td>\n",
       "      <td>0.00 Dividend</td>\n",
       "      <td>0.00 Dividend</td>\n",
       "      <td>0.00 Dividend</td>\n",
       "      <td>0.00 Dividend</td>\n",
       "      <td>0.00 Dividend</td>\n",
       "      <td>0.00 Dividend</td>\n",
       "    </tr>\n",
       "    <tr>\n",
       "      <th>656</th>\n",
       "      <td>2021-06-09</td>\n",
       "      <td>17.52</td>\n",
       "      <td>17.58</td>\n",
       "      <td>17.26</td>\n",
       "      <td>17.36</td>\n",
       "      <td>17.33</td>\n",
       "      <td>381656000</td>\n",
       "    </tr>\n",
       "    <tr>\n",
       "      <th>720</th>\n",
       "      <td>2021-03-09</td>\n",
       "      <td>0.00 Dividend</td>\n",
       "      <td>0.00 Dividend</td>\n",
       "      <td>0.00 Dividend</td>\n",
       "      <td>0.00 Dividend</td>\n",
       "      <td>0.00 Dividend</td>\n",
       "      <td>0.00 Dividend</td>\n",
       "    </tr>\n",
       "    <tr>\n",
       "      <th>721</th>\n",
       "      <td>2021-03-09</td>\n",
       "      <td>12.13</td>\n",
       "      <td>12.62</td>\n",
       "      <td>12.06</td>\n",
       "      <td>12.52</td>\n",
       "      <td>12.49</td>\n",
       "      <td>521824000</td>\n",
       "    </tr>\n",
       "  </tbody>\n",
       "</table>\n",
       "</div>"
      ],
      "text/plain": [
       "          Date              Open              High               Low  \\\n",
       "17  2023-12-05     0.00 Dividend     0.00 Dividend     0.00 Dividend   \n",
       "18  2023-12-05             45.47             46.60             45.27   \n",
       "81  2023-09-06     0.00 Dividend     0.00 Dividend     0.00 Dividend   \n",
       "82  2023-09-06             48.44             48.55             46.58   \n",
       "144 2023-06-07     0.00 Dividend     0.00 Dividend     0.00 Dividend   \n",
       "145 2023-06-07             38.92             39.50             37.36   \n",
       "209 2023-03-07     0.00 Dividend     0.00 Dividend     0.00 Dividend   \n",
       "210 2023-03-07             23.60             24.13             23.24   \n",
       "275 2022-11-30     0.00 Dividend     0.00 Dividend     0.00 Dividend   \n",
       "276 2022-11-30             15.70             16.93             15.60   \n",
       "335 2022-09-07     0.00 Dividend     0.00 Dividend     0.00 Dividend   \n",
       "336 2022-09-07             13.56             13.84             13.35   \n",
       "398 2022-06-08     0.00 Dividend     0.00 Dividend     0.00 Dividend   \n",
       "399 2022-06-08             18.80             19.18             18.53   \n",
       "467 2022-03-02     0.00 Dividend     0.00 Dividend     0.00 Dividend   \n",
       "468 2022-03-02             23.76             24.41             23.42   \n",
       "530 2021-12-01     0.00 Dividend     0.00 Dividend     0.00 Dividend   \n",
       "531 2021-12-01             33.22             33.29             31.38   \n",
       "595 2021-08-31     0.00 Dividend     0.00 Dividend     0.00 Dividend   \n",
       "596 2021-08-31             22.69             22.69             22.12   \n",
       "626 2021-07-20  4:1 Stock Splits  4:1 Stock Splits  4:1 Stock Splits   \n",
       "627 2021-07-20             18.73             18.84             18.16   \n",
       "655 2021-06-09     0.00 Dividend     0.00 Dividend     0.00 Dividend   \n",
       "656 2021-06-09             17.52             17.58             17.26   \n",
       "720 2021-03-09     0.00 Dividend     0.00 Dividend     0.00 Dividend   \n",
       "721 2021-03-09             12.13             12.62             12.06   \n",
       "\n",
       "                Close         Adj Close            Volume  \n",
       "17      0.00 Dividend     0.00 Dividend     0.00 Dividend  \n",
       "18              46.57             46.56         371718000  \n",
       "81      0.00 Dividend     0.00 Dividend     0.00 Dividend  \n",
       "82              47.06             47.05         468670000  \n",
       "144     0.00 Dividend     0.00 Dividend     0.00 Dividend  \n",
       "145             37.47             37.46         511998000  \n",
       "209     0.00 Dividend     0.00 Dividend     0.00 Dividend  \n",
       "210             23.29             23.28         515154000  \n",
       "275     0.00 Dividend     0.00 Dividend     0.00 Dividend  \n",
       "276             16.92             16.91         565298000  \n",
       "335     0.00 Dividend     0.00 Dividend     0.00 Dividend  \n",
       "336             13.71             13.70         512657000  \n",
       "398     0.00 Dividend     0.00 Dividend     0.00 Dividend  \n",
       "399             18.65             18.63         363252000  \n",
       "467     0.00 Dividend     0.00 Dividend     0.00 Dividend  \n",
       "468             24.22             24.19         389642000  \n",
       "530     0.00 Dividend     0.00 Dividend     0.00 Dividend  \n",
       "531             31.43             31.38         484368000  \n",
       "595     0.00 Dividend     0.00 Dividend     0.00 Dividend  \n",
       "596             22.39             22.35         259850000  \n",
       "626  4:1 Stock Splits  4:1 Stock Splits  4:1 Stock Splits  \n",
       "627             18.61             18.58         434687000  \n",
       "655     0.00 Dividend     0.00 Dividend     0.00 Dividend  \n",
       "656             17.36             17.33         381656000  \n",
       "720     0.00 Dividend     0.00 Dividend     0.00 Dividend  \n",
       "721             12.52             12.49         521824000  "
      ]
     },
     "metadata": {},
     "output_type": "display_data"
    }
   ],
   "source": [
    "# the list of dates when non-numeric entries are provided\n",
    "date_non_numeric = list(df.loc[df_num.index, 'Date'])\n",
    "\n",
    "# display all data in those dates\n",
    "filetered_df = df.where(df['Date'].isin(date_non_numeric)).dropna()\n",
    "display(filetered_df)"
   ]
  },
  {
   "cell_type": "markdown",
   "id": "2e39e30e-04db-4a04-b159-072d49f89980",
   "metadata": {},
   "source": [
    "It seems that, at the dates when dividend payment / stock split event occur, there is also stock price and volume data.\n",
    "\n",
    "Moreover, I want to take a closer look at the stock split event to check whether the prices before and after the split are consistent."
   ]
  },
  {
   "cell_type": "code",
   "execution_count": 1248,
   "id": "78b88236-30ec-4eff-8fea-73b167072f7c",
   "metadata": {},
   "outputs": [
    {
     "data": {
      "text/plain": [
       "626   2021-07-20\n",
       "Name: Date, dtype: datetime64[ns]"
      ]
     },
     "execution_count": 1248,
     "metadata": {},
     "output_type": "execute_result"
    }
   ],
   "source": [
    "# extract date of stock split\n",
    "bool_split = df['Open'].str.contains('Stock Splits')\n",
    "date_split = df[bool_split]['Date']\n",
    "date_split"
   ]
  },
  {
   "cell_type": "markdown",
   "id": "3a402782-4d00-4b5a-af87-74f2fef06d2b",
   "metadata": {},
   "source": [
    "The split happened on July 20th, 2021. To see whether the prices before and after the split are consistent, we will print a few rows of data, before and after the split date,"
   ]
  },
  {
   "cell_type": "code",
   "execution_count": 1251,
   "id": "3c655ba7-86ce-42a5-b6e3-d0e90c27cb14",
   "metadata": {},
   "outputs": [
    {
     "data": {
      "text/html": [
       "<div>\n",
       "<style scoped>\n",
       "    .dataframe tbody tr th:only-of-type {\n",
       "        vertical-align: middle;\n",
       "    }\n",
       "\n",
       "    .dataframe tbody tr th {\n",
       "        vertical-align: top;\n",
       "    }\n",
       "\n",
       "    .dataframe thead th {\n",
       "        text-align: right;\n",
       "    }\n",
       "</style>\n",
       "<table border=\"1\" class=\"dataframe\">\n",
       "  <thead>\n",
       "    <tr style=\"text-align: right;\">\n",
       "      <th></th>\n",
       "      <th>Date</th>\n",
       "      <th>Open</th>\n",
       "      <th>High</th>\n",
       "      <th>Low</th>\n",
       "      <th>Close</th>\n",
       "      <th>Adj Close</th>\n",
       "      <th>Volume</th>\n",
       "    </tr>\n",
       "  </thead>\n",
       "  <tbody>\n",
       "    <tr>\n",
       "      <th>623</th>\n",
       "      <td>2021-07-23</td>\n",
       "      <td>19.66</td>\n",
       "      <td>19.70</td>\n",
       "      <td>19.25</td>\n",
       "      <td>19.56</td>\n",
       "      <td>19.52</td>\n",
       "      <td>195672000</td>\n",
       "    </tr>\n",
       "    <tr>\n",
       "      <th>624</th>\n",
       "      <td>2021-07-22</td>\n",
       "      <td>19.64</td>\n",
       "      <td>19.89</td>\n",
       "      <td>19.28</td>\n",
       "      <td>19.59</td>\n",
       "      <td>19.56</td>\n",
       "      <td>323826000</td>\n",
       "    </tr>\n",
       "    <tr>\n",
       "      <th>625</th>\n",
       "      <td>2021-07-21</td>\n",
       "      <td>18.88</td>\n",
       "      <td>19.53</td>\n",
       "      <td>18.74</td>\n",
       "      <td>19.41</td>\n",
       "      <td>19.37</td>\n",
       "      <td>371017000</td>\n",
       "    </tr>\n",
       "    <tr>\n",
       "      <th>626</th>\n",
       "      <td>2021-07-20</td>\n",
       "      <td>4:1 Stock Splits</td>\n",
       "      <td>4:1 Stock Splits</td>\n",
       "      <td>4:1 Stock Splits</td>\n",
       "      <td>4:1 Stock Splits</td>\n",
       "      <td>4:1 Stock Splits</td>\n",
       "      <td>4:1 Stock Splits</td>\n",
       "    </tr>\n",
       "    <tr>\n",
       "      <th>627</th>\n",
       "      <td>2021-07-20</td>\n",
       "      <td>18.73</td>\n",
       "      <td>18.84</td>\n",
       "      <td>18.16</td>\n",
       "      <td>18.61</td>\n",
       "      <td>18.58</td>\n",
       "      <td>434687000</td>\n",
       "    </tr>\n",
       "    <tr>\n",
       "      <th>628</th>\n",
       "      <td>2021-07-19</td>\n",
       "      <td>17.92</td>\n",
       "      <td>19.04</td>\n",
       "      <td>17.87</td>\n",
       "      <td>18.78</td>\n",
       "      <td>18.74</td>\n",
       "      <td>749060000</td>\n",
       "    </tr>\n",
       "    <tr>\n",
       "      <th>629</th>\n",
       "      <td>2021-07-16</td>\n",
       "      <td>19.03</td>\n",
       "      <td>19.16</td>\n",
       "      <td>18.07</td>\n",
       "      <td>18.16</td>\n",
       "      <td>18.13</td>\n",
       "      <td>688224000</td>\n",
       "    </tr>\n",
       "  </tbody>\n",
       "</table>\n",
       "</div>"
      ],
      "text/plain": [
       "          Date              Open              High               Low  \\\n",
       "623 2021-07-23             19.66             19.70             19.25   \n",
       "624 2021-07-22             19.64             19.89             19.28   \n",
       "625 2021-07-21             18.88             19.53             18.74   \n",
       "626 2021-07-20  4:1 Stock Splits  4:1 Stock Splits  4:1 Stock Splits   \n",
       "627 2021-07-20             18.73             18.84             18.16   \n",
       "628 2021-07-19             17.92             19.04             17.87   \n",
       "629 2021-07-16             19.03             19.16             18.07   \n",
       "\n",
       "                Close         Adj Close            Volume  \n",
       "623             19.56             19.52         195672000  \n",
       "624             19.59             19.56         323826000  \n",
       "625             19.41             19.37         371017000  \n",
       "626  4:1 Stock Splits  4:1 Stock Splits  4:1 Stock Splits  \n",
       "627             18.61             18.58         434687000  \n",
       "628             18.78             18.74         749060000  \n",
       "629             18.16             18.13         688224000  "
      ]
     },
     "execution_count": 1251,
     "metadata": {},
     "output_type": "execute_result"
    }
   ],
   "source": [
    "# index of the stock split date\n",
    "idx_split = date_split.index[0]\n",
    "\n",
    "# print a few rows before and after the split\n",
    "df.iloc[idx_split-3 : idx_split+4, :]"
   ]
  },
  {
   "cell_type": "markdown",
   "id": "48555357-eb36-455a-9b16-6feeddcc995d",
   "metadata": {},
   "source": [
    "The prices before and after the stock split appear to be consistent (i.e. the prices have been adjusted). Therefore, so no further action is required (such as dividing or multipltying the price by 4 for a 4:1 stock split)."
   ]
  },
  {
   "cell_type": "markdown",
   "id": "0a809048-fe49-4612-b0d3-f391cc2796f2",
   "metadata": {},
   "source": [
    "Lastly, we are going to store the date when dividend payment was made, (This is to be used later for Feature Generation.)"
   ]
  },
  {
   "cell_type": "code",
   "execution_count": 1255,
   "id": "251fb977-377b-4648-8ca1-540983e76b8d",
   "metadata": {},
   "outputs": [
    {
     "data": {
      "text/plain": [
       "17    2023-12-05\n",
       "81    2023-09-06\n",
       "144   2023-06-07\n",
       "209   2023-03-07\n",
       "275   2022-11-30\n",
       "335   2022-09-07\n",
       "398   2022-06-08\n",
       "467   2022-03-02\n",
       "530   2021-12-01\n",
       "595   2021-08-31\n",
       "655   2021-06-09\n",
       "720   2021-03-09\n",
       "Name: Date, dtype: datetime64[ns]"
      ]
     },
     "execution_count": 1255,
     "metadata": {},
     "output_type": "execute_result"
    }
   ],
   "source": [
    "# extract date of stock split\n",
    "bool_divd = df['Open'].str.contains('Dividend')\n",
    "date_divd = df[bool_divd]['Date']\n",
    "date_divd"
   ]
  },
  {
   "cell_type": "markdown",
   "id": "33026d1c-f808-47b8-9259-fb227f0e6aec",
   "metadata": {},
   "source": [
    "Now let's drop these non-numeric rows,"
   ]
  },
  {
   "cell_type": "code",
   "execution_count": 1258,
   "id": "fee7242b-1421-4740-9e37-2418b6987fcd",
   "metadata": {},
   "outputs": [],
   "source": [
    "# drop non-numeric rows\n",
    "df.drop(df_num.index, axis=0, inplace=True)"
   ]
  },
  {
   "cell_type": "markdown",
   "id": "b5f3fe74-9c42-4f77-9764-498455a7159c",
   "metadata": {},
   "source": [
    "The next step is to change the data type of these numeric columns to float/integer,"
   ]
  },
  {
   "cell_type": "code",
   "execution_count": 1261,
   "id": "7a4a525c-9c78-419f-8018-4c567b16009f",
   "metadata": {},
   "outputs": [],
   "source": [
    "# change data type of numeric columns to \n",
    "for col in num_cols:\n",
    "    df[col] = pd.to_numeric(df[col])"
   ]
  },
  {
   "cell_type": "code",
   "execution_count": 1263,
   "id": "03f6ee10-dbc6-4061-a07e-a8aae6de2d1a",
   "metadata": {},
   "outputs": [
    {
     "name": "stdout",
     "output_type": "stream",
     "text": [
      "<class 'pandas.core.frame.DataFrame'>\n",
      "Int64Index: 753 entries, 0 to 765\n",
      "Data columns (total 7 columns):\n",
      " #   Column     Non-Null Count  Dtype         \n",
      "---  ------     --------------  -----         \n",
      " 0   Date       753 non-null    datetime64[ns]\n",
      " 1   Open       753 non-null    float64       \n",
      " 2   High       753 non-null    float64       \n",
      " 3   Low        753 non-null    float64       \n",
      " 4   Close      753 non-null    float64       \n",
      " 5   Adj Close  753 non-null    float64       \n",
      " 6   Volume     753 non-null    int64         \n",
      "dtypes: datetime64[ns](1), float64(5), int64(1)\n",
      "memory usage: 47.1 KB\n"
     ]
    }
   ],
   "source": [
    "# check data type\n",
    "df.info()"
   ]
  },
  {
   "cell_type": "markdown",
   "id": "5075e960-f99e-4bd3-b98f-aca88a618d6a",
   "metadata": {},
   "source": [
    "The data type has been appropriately changed."
   ]
  },
  {
   "cell_type": "markdown",
   "id": "cda2c5f6-68ec-41b1-8fb3-3a6a9b3b01b2",
   "metadata": {},
   "source": [
    "For convenience, we will change the order of the dataframe, so that it is ordered based on the `Date` column in ascending order,"
   ]
  },
  {
   "cell_type": "code",
   "execution_count": 1267,
   "id": "94697084-a75f-4e9d-b7b0-fb910d898a68",
   "metadata": {},
   "outputs": [],
   "source": [
    "df.sort_values('Date', ascending=True, inplace=True)"
   ]
  },
  {
   "cell_type": "markdown",
   "id": "9a5e0175-18a7-4add-98e0-6968d1faec91",
   "metadata": {},
   "source": [
    "Use the `Date` column as the index for the dataframe,"
   ]
  },
  {
   "cell_type": "code",
   "execution_count": 1270,
   "id": "c84b764a-b22f-435e-836d-a02bc442c68e",
   "metadata": {},
   "outputs": [],
   "source": [
    "# use Date column as the dataframe index\n",
    "df.set_index('Date', inplace=True)"
   ]
  },
  {
   "cell_type": "markdown",
   "id": "ed856405-08ec-4543-9fce-b2de4e097546",
   "metadata": {},
   "source": [
    "### Outliers\n",
    "\n",
    "We are now going to check for outliers/anomalies in the dataset, with the primary goal to detect unrealistic price points or volume spikes.\n",
    "\n",
    "We are going to start with creating a histogram to get an overview of the distribution of the data points."
   ]
  },
  {
   "cell_type": "code",
   "execution_count": 1273,
   "id": "2cb2ef08-f940-4172-a0e2-44b7c1e10668",
   "metadata": {},
   "outputs": [
    {
     "data": {
      "image/png": "[encoded data removed]",
      "text/plain": [
       "<Figure size 1000x1200 with 6 Axes>"
      ]
     },
     "metadata": {},
     "output_type": "display_data"
    }
   ],
   "source": [
    "# create histogram\n",
    "fig, ax = plt.subplots(6, 1, figsize=(10, 12))\n",
    "# loop thorugh each columns\n",
    "for i, col in enumerate(df.columns):\n",
    "    ax[i].hist(df[col], bins=50, color='skyblue', edgecolor='black')\n",
    "    ax[i].set_title(f'Histogram of {col}')\n",
    "    ax[i].set_xlabel(col)\n",
    "    ax[i].set_ylabel('Frequency')\n",
    "\n",
    "# adjust layout to prevent overlap\n",
    "plt.tight_layout()\n",
    "plt.show()"
   ]
  },
  {
   "cell_type": "markdown",
   "id": "2bcd31ea-34af-4930-a27f-4fe701ec92a2",
   "metadata": {},
   "source": [
    "For price data (including Open, High, Low, Close, and Adj Close), we observe that the price was generally trading around \\\\$10 to \\\\$50. We do not observe any unrealisticly price movements, such as the price dropping to $0 or spiking to extreme levels (such as to the hundreds or thousands), which suggests the the data is free from such obvious errors. Moreover, we also observe that the distribution of Open, High, Low, Close, and Adj Close prices are closely matching each other, which is what we wanted and expected to see.\n",
    "\n",
    "For volume data, we observe that the daily traded volume is mostly around 500,000,000 shares. However, we do observe several data points that are well above the 1,000,000,000 shares. These higher volume amount are significantly above the usual daily traded volume, which could either be caused by unusual market activity or erroneous data."
   ]
  },
  {
   "cell_type": "markdown",
   "id": "915b504f-7d99-4966-afc4-e0f5bf90e7c3",
   "metadata": {},
   "source": [
    "To have a more concrete analysis, we are going to use the Tukey's Fences method for outlier detection. The reason for choosing this method over other methods (such as the 3$\\sigma$ Rule) is because it is robust and non-parametric, which is ideal with our dataset that is not normally distributed (as shown in the histograms before).\n",
    "\n",
    "With this rule, an upper and lower bound are defined. The upper bound is the Q3 plus 1.5 times the IQR; The lower bound is the Q1 minus 1.5 times IQR. Any data points that are above the upper bound or below the lower bound are defined as the outlier."
   ]
  },
  {
   "cell_type": "code",
   "execution_count": 1276,
   "id": "2b1a71ec-531e-4306-8283-dfad005853aa",
   "metadata": {},
   "outputs": [
    {
     "name": "stdout",
     "output_type": "stream",
     "text": [
      "List of outliers,\n",
      "Open: \n",
      " Date\n",
      "2023-08-24    50.22\n",
      "Name: Open, dtype: float64\n",
      "High: \n",
      " Series([], Name: High, dtype: float64)\n",
      "Low: \n",
      " Date\n",
      "2023-08-31    48.96\n",
      "2023-11-14    49.04\n",
      "2023-11-17    49.01\n",
      "2023-11-20    49.18\n",
      "2023-11-21    49.22\n",
      "2023-12-18    49.15\n",
      "2023-12-19    48.90\n",
      "2023-12-26    48.96\n",
      "2023-12-27    49.08\n",
      "2023-12-28    49.41\n",
      "2023-12-29    48.75\n",
      "Name: Low, dtype: float64\n",
      "Close: \n",
      " Date\n",
      "2023-11-20    50.41\n",
      "2023-11-21    49.94\n",
      "2023-12-18    50.08\n",
      "Name: Close, dtype: float64\n",
      "Adj Close: \n",
      " Date\n",
      "2023-11-14    49.64\n",
      "2023-11-20    50.39\n",
      "2023-11-21    49.93\n",
      "2023-12-18    50.07\n",
      "2023-12-19    49.59\n",
      "Name: Adj Close, dtype: float64\n",
      "Volume: \n",
      " Date\n",
      "2021-04-12     869324000\n",
      "2021-06-18     968856000\n",
      "2021-11-04    1153631000\n",
      "2022-01-24     913982000\n",
      "2022-03-24     877379000\n",
      "2022-05-26     996575000\n",
      "2022-08-08     981859000\n",
      "2022-09-01    1178865000\n",
      "2023-02-23    1117995000\n",
      "2023-05-25    1543911000\n",
      "2023-05-30     923401000\n",
      "2023-05-31    1002580000\n",
      "2023-07-21     963769000\n",
      "2023-08-24    1156044000\n",
      "2023-08-25     925341000\n",
      "2023-11-22     899420000\n",
      "Name: Volume, dtype: int64\n"
     ]
    }
   ],
   "source": [
    "# Tukey's Fences method\n",
    "def tukeys_fences(col):\n",
    "    Q1 = np.percentile(col, 25)  # first quartile\n",
    "    Q3 = np.percentile(col, 75)  # third quartile\n",
    "    IQR = Q3 - Q1  # interquartile range\n",
    "    # compute the lower and upper boundary\n",
    "    lower_bound = Q1 - 1.5 * IQR\n",
    "    upper_bound = Q3 + 1.5 * IQR\n",
    "    # define outliers\n",
    "    outliers = col[(col < lower_bound) | (col > upper_bound)]\n",
    "    return outliers\n",
    "\n",
    "# apply Tuker's Fences method\n",
    "print('List of outliers,')\n",
    "for col in df.columns:\n",
    "    outliers = tukeys_fences(df[col])\n",
    "    print(f'{col}:', '\\n', f'{outliers}')"
   ]
  },
  {
   "cell_type": "markdown",
   "id": "db75f28d-66b2-4bfd-8694-227b89fff82c",
   "metadata": {},
   "source": [
    "Comparing the result above and the histograms from before, notice that the outliers are all on the upside. The outliers on the price related features/columns can be explained due to NVDA's amazing performance in the latter part of 2023. Moreover, for the volume column, after cross checking with the news, these upside outliers are generally caused by earnings surprises.\n",
    "\n",
    "We decide to keep these outliers in the dataset because these values are a result of significant market conditions (such as earnings surpise or macroeconomic events). Removing these data points would mean that we are removing valuable information that reflects NVDA stock's behaviour."
   ]
  },
  {
   "cell_type": "markdown",
   "id": "b98a7d19-e9a5-4a4b-ada5-df54c7928065",
   "metadata": {},
   "source": [
    "## 2b. Features Generation\n",
    "In this step, we are going to generate more features, derived from the Open, High, Low, Close, Adj Close, and Volume features. The features we will create are,\n",
    "- compute intraday daily return -> (close - open) / open\n",
    "- compute close-to-close return (also called Daily Return) -> (Close_today - Closer_yesterday)/Close_yesterday\n",
    "- cumulative returns (for example, assume you purchase the stock on Nov 25, 2022 and you are holding on to it until Nov 22, 2024)\n",
    "- compute moving averages for the close price\n",
    "- Compute daily volatility by copmuting the difference between High and Low\n",
    "- Is there any other way to compute volatility (such as moving window standard deviation)?\n",
    "- Extract the day from the date"
   ]
  },
  {
   "cell_type": "markdown",
   "id": "8bbad74e-a6a7-42bf-bad4-3a1a9ec9ef0b",
   "metadata": {},
   "source": [
    "*Note: From this point onward, 'closing price' will be used to refer to adjusted closing price.*\n",
    "\n",
    "### Intraday Retrurn\n",
    "It represents the return an investor receives if the stock was purchased at market open and then sold at market close. It is computed using the following formula,\n",
    "\n",
    "$$Intraday Return = \\frac{(Close_t - Open_t)}{Open_t}$$"
   ]
  },
  {
   "cell_type": "code",
   "execution_count": 1280,
   "id": "ad6d418f-a20d-44b6-8469-09f8a92c770d",
   "metadata": {},
   "outputs": [],
   "source": [
    "# compute intraday return\n",
    "df['Intraday Return'] = (df['Adj Close'] - df['Open'])/df['Open']"
   ]
  },
  {
   "cell_type": "markdown",
   "id": "5eee64c5-43db-4289-b96c-46156635d612",
   "metadata": {},
   "source": [
    "### Daily Return\n",
    "Daily Return or Close-to-Close Return is computed using interday closing prices, here is the formula,\n",
    "\n",
    "$$Daily Return = \\frac{(Close_t - Close_{t-1})}{Close_{t-1}}$$"
   ]
  },
  {
   "cell_type": "code",
   "execution_count": 1285,
   "id": "5788f788-c43a-4414-be38-6752d9e552f0",
   "metadata": {},
   "outputs": [],
   "source": [
    "# compute close-to-close return (i.e. daily return)\n",
    "df['Daily Return'] = (df['Adj Close'] - df['Adj Close'].shift(1)) / df['Adj Close'].shift(1)"
   ]
  },
  {
   "cell_type": "markdown",
   "id": "3d7d3bfa-f755-45ab-bf3a-e29200519dbf",
   "metadata": {},
   "source": [
    "### Cumulative Return\n",
    "It is the compounded growth of an investment, asusming that all returns are reinvested. It is computed as follows,\n",
    "\n",
    "$$Cumulative Return_t = \\prod_{i=1}^t (1 + r_i) - 1$$"
   ]
  },
  {
   "cell_type": "code",
   "execution_count": 1288,
   "id": "d3bae88f-5e56-44b4-98f6-269e8887b25b",
   "metadata": {
    "tags": []
   },
   "outputs": [],
   "source": [
    "# compute cumulative return\n",
    "df['Cumulative Return'] = (df['Daily Return'] + 1).cumprod() - 1"
   ]
  },
  {
   "cell_type": "markdown",
   "id": "a3a32cdb-cfdc-4f6a-8b15-3e2d43176dc3",
   "metadata": {},
   "source": [
    "### High-Low Rage\n",
    "The difference between the day's high and low. It is used to measure intraday volatility."
   ]
  },
  {
   "cell_type": "code",
   "execution_count": 1294,
   "id": "22ebbb00-5c50-4961-9b16-83206bb563e5",
   "metadata": {},
   "outputs": [],
   "source": [
    "# compute high-low range\n",
    "df['High-Low Range'] = df['High'] - df['Low']"
   ]
  },
  {
   "cell_type": "markdown",
   "id": "6704ff1a-0efa-4589-b782-623e59c3c44e",
   "metadata": {},
   "source": [
    "### 10-Day Moving Standard Deviation\n",
    "The standard deviation of the Daily Returns from the past 10 trading days. The 10-day moving standard deviation at time t is,\n",
    "\n",
    "$$\\text{10-Day Moving Std.} = \\frac{1}{10} \\sum_{i=t-9}^{t} Daily\\_Return_i$$"
   ]
  },
  {
   "cell_type": "markdown",
   "id": "c14342ac-bd33-4c3d-809f-d18692241925",
   "metadata": {},
   "source": [
    "$$\\sigma_{t,10} = \\sqrt{\\frac{1}{10} \\sum_{i=0}^{9} (x_{t-i} - \\bar{x}_{t,10})^2}$$"
   ]
  },
  {
   "cell_type": "code",
   "execution_count": 1298,
   "id": "1770a84c-daa2-4030-95c6-583985397ee0",
   "metadata": {},
   "outputs": [],
   "source": [
    "# compute 10-day moving std\n",
    "df['10-day Moving Std'] = df['Daily Return'].rolling(window=10).mean()"
   ]
  },
  {
   "cell_type": "markdown",
   "id": "9d7508e5-344e-4101-9c28-51f1c595f37a",
   "metadata": {},
   "source": [
    "### Weekday, Month, and Year \n",
    "Parse the weekday, month, and year from the date."
   ]
  },
  {
   "cell_type": "code",
   "execution_count": 1562,
   "id": "5af3a2f2-23af-405c-aee7-710f4c3b25f5",
   "metadata": {},
   "outputs": [],
   "source": [
    "# Extract the day from the date\n",
    "df['Weekday'] = list(pd.Series(df.index).dt.day_name())\n",
    "df['Month'] = df.index.month.astype(str)\n",
    "df['Year'] = df.index.year.astype(str)"
   ]
  },
  {
   "cell_type": "markdown",
   "id": "7ff972a2-de13-42bc-918e-64da06570e61",
   "metadata": {},
   "source": [
    "### Dividend Paymment Date\n",
    "\n",
    "Create a column to indicate whether dividend is distributed on that date."
   ]
  },
  {
   "cell_type": "code",
   "execution_count": 1307,
   "id": "37f00a91-b2a1-46bb-ada1-f3e0932f7ea4",
   "metadata": {},
   "outputs": [],
   "source": [
    "# create the dividend indicator\n",
    "df['Dividend Paid'] = df.index.isin(pd.to_datetime(date_non_numeric))"
   ]
  },
  {
   "cell_type": "markdown",
   "id": "1380aa13-1168-4366-977e-ae05bb62852e",
   "metadata": {},
   "source": [
    "## 3. Exploratory Data Analysis (EDA)\n",
    "In approaching EDA, we will start bu analyzing and undersatanding the dataset as a whole, and then we will break it down into groups (i.e. Weekdays and Months) for more detailed analysis."
   ]
  },
  {
   "cell_type": "code",
   "execution_count": null,
   "id": "2539ad26-91bd-4433-80b9-1fdbf2df2d63",
   "metadata": {},
   "outputs": [],
   "source": []
  },
  {
   "cell_type": "markdown",
   "id": "274941a3-5f4f-4c04-a16e-6e4579cab2d6",
   "metadata": {},
   "source": [
    "The approach for EDA is that we are going to start considering the dataset as a whole. Then we would group the dataset into Weekdays, and analyze the groups. We are then going to do the same steps with monthly groupings.\n",
    "- Aggregated Level\n",
    "    - (Done) The stock price range (highest and lowest adjsuted price)\n",
    "    - (Done) The average daily return\n",
    "    - (Done) Annualized standard deviation of daily returns\n",
    "    - (Done) Explore distribution of Returns -> Test for normality: Histogram, Shapiro-Wilk test\n",
    "    - (Done) Plot cumulative returns\n",
    "    - (Done) The top 10 largest returns\n",
    "    - (Done) The top 10 smallest returns\n",
    "    - (Done) The date of top 10 largest magnitude of returns -> see for volatility clustering\n",
    "    - (Done) Compare the traded volume in non-event day and in dividend payment day\n",
    "    - (Done) Count the number of upticks (positive returns) and downticks (negative returns) -> to mix things up, you can copmute the percentage of the count and then plot pie chart\n",
    "    - (Done) Relationship between high-low range (i.e. intraday valatility) and volume -> scatter plot and compute correlations.\n",
    "    - (Done) Check correlations during extreme events (e.g., when Daily Return is in the top or bottom 10%), between high-low range and volume. -> refer to code labeled (A)\n",
    "    - (Done) Relationship High-Low Range vs. Intraday Return -> Larger ranges might correspond to higher intraday returns, as these represent days with more price movement.\n",
    "- Weekday Level\n",
    "    (Create a function for each one of these so we can reuse it for monthly gropuing and yearly gropuing)\n",
    "    - Rank the weekdays in terms of average returns -> draw a bar chart to compare\n",
    "    - Rank the weekdays in terms of total traded volumes -> draw bar chart\n",
    "    - Rank the weekdays in terms of annualzied standard deviation of daily returns -> draw bar chart\n",
    "    - For each Compute the difference between upticks (positive returns) and downticks (negative returns)\n",
    "- Monthly Level"
   ]
  },
  {
   "cell_type": "code",
   "execution_count": null,
   "id": "e842f53b-3bca-439b-9ccf-81cac54dc1b2",
   "metadata": {},
   "outputs": [],
   "source": []
  },
  {
   "cell_type": "markdown",
   "id": "844b83dd-fc85-41ab-8c5f-5d9bd48ca29b",
   "metadata": {},
   "source": [
    "### Aggregated Level\n",
    "\n",
    "We begin by analyzing the dataset in its entirety to understand the general trends and key statistics of NVDA stock data."
   ]
  },
  {
   "cell_type": "markdown",
   "id": "1fb170d6-94b9-4b06-88f1-f1a458b42e6d",
   "metadata": {},
   "source": [
    "**Stock Price Range**"
   ]
  },
  {
   "cell_type": "code",
   "execution_count": 1315,
   "id": "5bed56fc-93f9-430d-9992-b5d15a73101d",
   "metadata": {},
   "outputs": [
    {
     "name": "stdout",
     "output_type": "stream",
     "text": [
      "39.17\n"
     ]
    }
   ],
   "source": [
    "# stock price range\n",
    "price_range = df['Adj Close'].max() - df['Adj Close'].min()\n",
    "print(price_range)"
   ]
  },
  {
   "cell_type": "markdown",
   "id": "a5767cba-c008-4544-a7b9-7238ef9020ce",
   "metadata": {},
   "source": [
    "The difference between highest and lowest price during the 3-year period was $39.17."
   ]
  },
  {
   "cell_type": "markdown",
   "id": "a80897d6-999c-427b-b1bf-2b1cdf193c24",
   "metadata": {},
   "source": [
    "**Average Daily Return**"
   ]
  },
  {
   "cell_type": "code",
   "execution_count": 1722,
   "id": "246eeb14-6cc9-4db0-9188-8b65baad0307",
   "metadata": {},
   "outputs": [
    {
     "name": "stdout",
     "output_type": "stream",
     "text": [
      "0.23%\n"
     ]
    }
   ],
   "source": [
    "# average daily return\n",
    "average_daily_return = df['Daily Return'].mean()\n",
    "print(f'{round(average_daily_return * 100, 2)}%')"
   ]
  },
  {
   "cell_type": "markdown",
   "id": "c8823031-a3c2-462d-b9b6-d0c079c721a4",
   "metadata": {},
   "source": [
    "On average, an investor would receive 0.23% return per day by investing in NVDA."
   ]
  },
  {
   "cell_type": "markdown",
   "id": "0175907f-a7e8-4e1d-bf9b-4fd6dc0ef03e",
   "metadata": {},
   "source": [
    "**Annualized Std. of Daily Returns**\n",
    "\n",
    "It is a measure of volatility of the stock. It provides insight regarding the risk of investing in this asset for a whole year. To compute it, we first compute the standard deviation of the daily returns, and then we annualize it by multiplying the standard deviation by $\\sqrt{252}$."
   ]
  },
  {
   "cell_type": "code",
   "execution_count": 1319,
   "id": "fb8037b6-0cff-4997-8332-6ae2b3feb3e7",
   "metadata": {},
   "outputs": [
    {
     "name": "stdout",
     "output_type": "stream",
     "text": [
      "53.01%\n"
     ]
    }
   ],
   "source": [
    "# copmute the std of daily returns\n",
    "daily_std = df['Daily Return'].std()\n",
    "\n",
    "# annualize the daily_std\n",
    "annualized_std = daily_std * np.sqrt(252) * 100\n",
    "print(f'{round(annualized_std,2)}%')"
   ]
  },
  {
   "cell_type": "markdown",
   "id": "d0659d9d-ea70-40d2-80bf-58b110a60fe4",
   "metadata": {},
   "source": [
    "The annualized standard deviation of NVDA's daily returns is 53.01%. It is more than double the typical volatility of the S&P500, which is usually around 20%. Of course this is to be expected due to the diversification effect on the S&P500."
   ]
  },
  {
   "cell_type": "markdown",
   "id": "83fb3714-1e2b-4b3d-8fff-7e3270c0237b",
   "metadata": {},
   "source": [
    "**Cumulative Returns**\n",
    "\n",
    "The cumulative returns have been computed in the \"2b. Features Generation\". Here, we are going to plot the cumulative returns, "
   ]
  },
  {
   "cell_type": "code",
   "execution_count": 1323,
   "id": "4b1ee92a-4312-444d-abee-4a11ecb90fd2",
   "metadata": {},
   "outputs": [
    {
     "data": {
      "image/png": "[encoded data removed]",
      "text/plain": [
       "<Figure size 640x480 with 1 Axes>"
      ]
     },
     "metadata": {},
     "output_type": "display_data"
    },
    {
     "name": "stdout",
     "output_type": "stream",
     "text": [
      "Cumulative Return on 2023-12-29 is 278.52%\n"
     ]
    }
   ],
   "source": [
    "# plot the cumulative return\n",
    "df['Cumulative Return'].plot()\n",
    "plt.title('Cumulative Return Over Time') # add title\n",
    "plt.ylabel('Cumulative Return') # add y axis label\n",
    "\n",
    "# plot a horizontal line on y = 0\n",
    "plt.axhline(y=0.0, color='red', linestyle='--')\n",
    "\n",
    "plt.show()\n",
    "\n",
    "# print cumulative return at the end of the time period\n",
    "print(f'Cumulative Return on {df.index[-1].date()} is {round(df[\"Cumulative Return\"][-1] * 100, 2)}%')"
   ]
  },
  {
   "cell_type": "markdown",
   "id": "ee7c277b-fa0c-49c0-b646-ffe559f91cf2",
   "metadata": {},
   "source": [
    "If an investor bought NVDA stock in the beginning of 2021, they would receive an impressive 279% return over the span of 3-year period. For comparison, the S&P500's cumulative return over the same time span was only around 28%, highlighting NVDA's impressive outperformance.\n",
    "\n",
    "Moreover, throughout the period, the cumulative return remained positive most of the time. The stock was intially able to reach the 150% level in December 2021. However it swiftly dropped to its the lowest point in October 2022. But then short after, the stock quickly recovered, surging to a cumulative return of 279% in just over a year."
   ]
  },
  {
   "cell_type": "markdown",
   "id": "3048b3af-f24b-4e1d-953b-b795763388c3",
   "metadata": {},
   "source": [
    "**Normality Test on the NVDA Returns**\n",
    "\n",
    "We are going to visually test for normality of NVDA's daily returns. Let's start with a histogram,"
   ]
  },
  {
   "cell_type": "code",
   "execution_count": 1326,
   "id": "9e2f9995-e758-4f33-9c79-07a4ddb57072",
   "metadata": {},
   "outputs": [
    {
     "data": {
      "image/png": "[encoded data removed]",
      "text/plain": [
       "<Figure size 640x480 with 1 Axes>"
      ]
     },
     "metadata": {},
     "output_type": "display_data"
    }
   ],
   "source": [
    "# plot histogram\n",
    "plt.hist(df['Daily Return'], bins=50, edgecolor='black')\n",
    "plt.title('Histogram of Daily Returns') # add title\n",
    "plt.xlabel('Daily Returns') # add x axis label\n",
    "plt.ylabel('Frequency') # add y axis label\n",
    "plt.show()"
   ]
  },
  {
   "cell_type": "markdown",
   "id": "ebbaf382-24b4-47e7-9e4d-2c4a7dc5d44c",
   "metadata": {},
   "source": [
    "The histogram shows that the distribution of daily returns are fairly bell-shaped. However, we do notice that it has a fat tail on the right side of the distribution.\n",
    "\n",
    "To properly test for nomality, we are going to use the Shapiro-Wilk Test to test for normallity. The hypotheses are,\n",
    ">H_0: The undelying population is normally distributed.\n",
    "\n",
    ">H_1: The underlying population is NOT normally distributed."
   ]
  },
  {
   "cell_type": "code",
   "execution_count": 1329,
   "id": "60d1f558-02b4-4ce2-b17a-b4e84ae8ac2d",
   "metadata": {},
   "outputs": [
    {
     "name": "stdout",
     "output_type": "stream",
     "text": [
      "Since p-value (1.0) > 0.05, we fail to reject the null hypothesis.\n"
     ]
    }
   ],
   "source": [
    "# Shapiro-Wilk test\n",
    "stat, p_val = sp.stats.shapiro(df['Daily Return'])\n",
    "\n",
    "# decision making: 0.05 significance level (alpha)\n",
    "alpha = 0.05\n",
    "if p_val > alpha:\n",
    "    print(f'Since p-value ({p_val}) > {alpha}, we fail to reject the null hypothesis.')\n",
    "else:\n",
    "    print(f'Since p-value ({p_val}) < {alpha}, we reject the null hypothesis.')"
   ]
  },
  {
   "cell_type": "markdown",
   "id": "e5f7dc0b-458a-4899-9026-add1b2032e5c",
   "metadata": {},
   "source": [
    "From the Shapiro-Wilk test, we can conclude that the Daily Return is normally distributed."
   ]
  },
  {
   "cell_type": "markdown",
   "id": "444f7838-0ed8-4cf3-9847-0836c966b622",
   "metadata": {},
   "source": [
    "**The Top 10 Largest Daily Returns and Top 10 Smallest Daily Returns**"
   ]
  },
  {
   "cell_type": "code",
   "execution_count": 1603,
   "id": "4419ff84-fe9a-41c3-9a13-c7ee39956567",
   "metadata": {},
   "outputs": [],
   "source": [
    "# plot bar chart\n",
    "def plot_bar(x, y, title, xlabel, ylabel, x_rotation):\n",
    "    # create bar chart\n",
    "    plt.bar(x, y)\n",
    "    plt.title(title)\n",
    "    plt.xlabel(xlabel)\n",
    "    plt.ylabel(ylabel)\n",
    "    plt.xticks(rotation=x_rotation) # rotate the x axis label\n",
    "    plt.show()"
   ]
  },
  {
   "cell_type": "code",
   "execution_count": 1605,
   "id": "11514633-b981-482e-9877-f5da862d8727",
   "metadata": {},
   "outputs": [
    {
     "data": {
      "image/png": "[encoded data removed]",
      "text/plain": [
       "<Figure size 640x480 with 1 Axes>"
      ]
     },
     "metadata": {},
     "output_type": "display_data"
    }
   ],
   "source": [
    "# Sort the data to get the top 10 largest returns\n",
    "top_10_largest = df[['Daily Return']].sort_values(by='Daily Return', ascending=False).head(10)\n",
    "\n",
    "# Plotting the top 10 largest returns\n",
    "plot_bar(top_10_largest.index.strftime('%Y-%m-%d'),\n",
    "         top_10_largest['Daily Return'],\n",
    "         'Top 10 Largest Daily Returns',\n",
    "         'Date',\n",
    "         'Return',\n",
    "         45)"
   ]
  },
  {
   "cell_type": "markdown",
   "id": "3d6ad1c8-908b-4f56-898e-f77a180cf2fb",
   "metadata": {},
   "source": [
    "The bar chart shows that the largest daily return was on May 25, 2023 at around 24%. It is almost twice as large as the send largest daily return. The reason for this large return was due to Nvidia's earnings was able to greatly beat analysts' estimates."
   ]
  },
  {
   "cell_type": "code",
   "execution_count": 1607,
   "id": "c780a063-3c7d-4381-bcca-d80a773a52db",
   "metadata": {},
   "outputs": [
    {
     "data": {
      "image/png": "[encoded data removed]",
      "text/plain": [
       "<Figure size 640x480 with 1 Axes>"
      ]
     },
     "metadata": {},
     "output_type": "display_data"
    }
   ],
   "source": [
    "# Sort the data to get the top 10 largest returns\n",
    "top_10_smallest = df[['Daily Return']].sort_values(by='Daily Return', ascending=True).head(10)\n",
    "\n",
    "# Plotting the top 10 largest returns\n",
    "plot_bar(top_10_smallest.index.strftime('%Y-%m-%d'),\n",
    "         top_10_smallest['Daily Return'],\n",
    "         'Top 10 Smallest Daily Returns',\n",
    "         'Date',\n",
    "         'Return',\n",
    "         45)"
   ]
  },
  {
   "cell_type": "markdown",
   "id": "c60aa131-60c1-45be-acf1-d5dc6ee9bf42",
   "metadata": {},
   "source": [
    "The top 10 smallest daily return figures are more tighly packed together. The largest drop happened on September 13, 2022 at around -9.5%. While the second and third largest drop were closer to the -9.0% level."
   ]
  },
  {
   "cell_type": "markdown",
   "id": "175fc995-2386-4880-a94d-dbaca6814a5c",
   "metadata": {},
   "source": [
    "**Average Traded Volume on Dividend Payment Date**\n",
    "\n",
    "We are now going to compare the average daily volume between when dividends are paid and when they are not."
   ]
  },
  {
   "cell_type": "code",
   "execution_count": 1358,
   "id": "1f9997e4-e89f-4ab6-a172-6dd06dcd6cb7",
   "metadata": {},
   "outputs": [
    {
     "name": "stdout",
     "output_type": "stream",
     "text": [
      "Dividend Paid\n",
      "False    4.588532e+08\n",
      "True     4.446749e+08\n",
      "Name: Volume, dtype: float64\n"
     ]
    },
    {
     "data": {
      "image/png": "[encoded data removed]",
      "text/plain": [
       "<Figure size 640x480 with 1 Axes>"
      ]
     },
     "metadata": {},
     "output_type": "display_data"
    }
   ],
   "source": [
    "# Group by 'Dividend Paid' column and compute mean\n",
    "avg_volume = df.groupby('Dividend Paid')['Volume'].mean()\n",
    "print(avg_volume)\n",
    "\n",
    "# plot the average volumes\n",
    "avg_volume.plot(kind='bar')\n",
    "plt.title('Average Volume: Dividend Paid vs. Not Paid')\n",
    "plt.xlabel('Dividend Paid')\n",
    "plt.ylabel('Average Volume')\n",
    "plt.xticks(ticks=[0, 1], labels=['No Dividend', 'Dividend Paid'], rotation=0)\n",
    "plt.show()"
   ]
  },
  {
   "cell_type": "markdown",
   "id": "e1390823-9834-440a-bd4e-778aadee7191",
   "metadata": {},
   "source": [
    "We observe that the trading volume is lower on days when dividends are paid compared to days when no dividend is paid. This could be attributed to the fact that macroeconomic events, company-specific news, and other market events are more of a needle mover. As dividend payments are typically anticipated (i.e. it does not provide immediate new information), they may not generate the same level of market activity."
   ]
  },
  {
   "cell_type": "markdown",
   "id": "30107ac2-6b98-494f-a942-2ec706ccccd4",
   "metadata": {},
   "source": [
    "**Upticks and Downticks**\n",
    "\n",
    "We are going to count the number of upticks (positive returns) and downticks (negative returns). "
   ]
  },
  {
   "cell_type": "code",
   "execution_count": 1368,
   "id": "9184c33b-bc81-4e1e-bbc6-ab6d42172690",
   "metadata": {},
   "outputs": [],
   "source": [
    "# count the number of positive and negative returns\n",
    "n_upticks = (df['Daily Return'] > 0).sum()\n",
    "n_downticks = (df['Daily Return'] < 0).sum()"
   ]
  },
  {
   "cell_type": "code",
   "execution_count": 1370,
   "id": "5d1b6e16-9f89-4dd3-a76f-9851ca38193f",
   "metadata": {},
   "outputs": [],
   "source": [
    "# copmute the percentage of upticks and downticks\n",
    "total = n_upticks + n_downticks\n",
    "uptick_pct = (n_upticks / total) * 100\n",
    "downtick_pct = (n_downticks / total) * 100"
   ]
  },
  {
   "cell_type": "code",
   "execution_count": 1378,
   "id": "cdb1d5c2-e187-4a91-878a-683b6243cdbf",
   "metadata": {},
   "outputs": [
    {
     "data": {
      "image/png": "[encoded data removed]",
      "text/plain": [
       "<Figure size 640x480 with 1 Axes>"
      ]
     },
     "metadata": {},
     "output_type": "display_data"
    }
   ],
   "source": [
    "# plot the pie chart\n",
    "plt.pie([uptick_pct, downtick_pct], labels=['Upticks', 'Downticks'], autopct='%1.1f%%')\n",
    "plt.title('Percentage of Upticks and Downticks')\n",
    "plt.show()"
   ]
  },
  {
   "cell_type": "markdown",
   "id": "9bcd201f-656e-43b6-a1cc-c43e694fed2b",
   "metadata": {},
   "source": [
    "There are 6.2% more upticks and downticks. This tendency of the stock price to go up contributes to NVDA's remarkable performance over the time period."
   ]
  },
  {
   "cell_type": "markdown",
   "id": "38274b5a-8580-4298-a019-c92973f2aa19",
   "metadata": {},
   "source": [
    "**High-Low Range vs Volume**\n",
    "\n",
    "We are going to analyze the relationship between the High-Low Range and Volume. To do so, we will create a scatter plot and compute the correlation coefficient."
   ]
  },
  {
   "cell_type": "code",
   "execution_count": 1466,
   "id": "67a25d7d-de68-4471-b650-eea7754a053a",
   "metadata": {},
   "outputs": [],
   "source": [
    "# a function to create scatter plot and compute correlation coef\n",
    "def plot_scatter_corr(df, x, y, title, xlabel, ylabel):\n",
    "    # create scatter plot\n",
    "    sns.scatterplot(x, y, data=df)\n",
    "    plt.title(title)\n",
    "    plt.xlabel(xlabel)\n",
    "    plt.ylabel(ylabel)\n",
    "    plt.show()\n",
    "    # compute and print correlation coef\n",
    "    correlation = df[[x, y]].corr()\n",
    "    display(correlation)"
   ]
  },
  {
   "cell_type": "code",
   "execution_count": 1468,
   "id": "7a41a228-2959-403c-a0a8-cabbe2191471",
   "metadata": {},
   "outputs": [
    {
     "name": "stderr",
     "output_type": "stream",
     "text": [
      "C:\\Users\\User\\anaconda3\\lib\\site-packages\\seaborn\\_decorators.py:36: FutureWarning: Pass the following variables as keyword args: x, y. From version 0.12, the only valid positional argument will be `data`, and passing other arguments without an explicit keyword will result in an error or misinterpretation.\n",
      "  warnings.warn(\n"
     ]
    },
    {
     "data": {
      "image/png": "[encoded data removed]",
      "text/plain": [
       "<Figure size 640x480 with 1 Axes>"
      ]
     },
     "metadata": {},
     "output_type": "display_data"
    },
    {
     "data": {
      "text/html": [
       "<div>\n",
       "<style scoped>\n",
       "    .dataframe tbody tr th:only-of-type {\n",
       "        vertical-align: middle;\n",
       "    }\n",
       "\n",
       "    .dataframe tbody tr th {\n",
       "        vertical-align: top;\n",
       "    }\n",
       "\n",
       "    .dataframe thead th {\n",
       "        text-align: right;\n",
       "    }\n",
       "</style>\n",
       "<table border=\"1\" class=\"dataframe\">\n",
       "  <thead>\n",
       "    <tr style=\"text-align: right;\">\n",
       "      <th></th>\n",
       "      <th>High-Low Range</th>\n",
       "      <th>Volume</th>\n",
       "    </tr>\n",
       "  </thead>\n",
       "  <tbody>\n",
       "    <tr>\n",
       "      <th>High-Low Range</th>\n",
       "      <td>1.00000</td>\n",
       "      <td>0.58012</td>\n",
       "    </tr>\n",
       "    <tr>\n",
       "      <th>Volume</th>\n",
       "      <td>0.58012</td>\n",
       "      <td>1.00000</td>\n",
       "    </tr>\n",
       "  </tbody>\n",
       "</table>\n",
       "</div>"
      ],
      "text/plain": [
       "                High-Low Range   Volume\n",
       "High-Low Range         1.00000  0.58012\n",
       "Volume                 0.58012  1.00000"
      ]
     },
     "metadata": {},
     "output_type": "display_data"
    }
   ],
   "source": [
    "# create scatter plot and corr coef\n",
    "plot_scatter_corr(df, 'High-Low Range', 'Volume', 'High-Low Range vs. Volume', 'High-Low Range', 'Volume')"
   ]
  },
  {
   "cell_type": "markdown",
   "id": "2bbfe90e-9abf-4018-af8a-64e39c4ecad1",
   "metadata": {},
   "source": [
    "We observe a positive correlation between volume and high-low range, with correlation coefficient of 0.58. In other words, When a stock experiences a large intraday volatility, it is often accompanied by increased trading volume. This observation makes logical sense because in order to greatly move the price up/down, a large number of shares would need to be traded."
   ]
  },
  {
   "cell_type": "markdown",
   "id": "d45d9f03-4acc-4cb3-b59e-a5c4fcef5286",
   "metadata": {},
   "source": [
    "Let's dive deeper in analyzing this correlation by specifically focusing on 'extreme' events, i.e. when the Daily Return is in the top or bottom 10%."
   ]
  },
  {
   "cell_type": "code",
   "execution_count": 1471,
   "id": "b7a55b5f-34a4-48c5-9a50-829608d6044e",
   "metadata": {},
   "outputs": [
    {
     "name": "stderr",
     "output_type": "stream",
     "text": [
      "C:\\Users\\User\\anaconda3\\lib\\site-packages\\seaborn\\_decorators.py:36: FutureWarning: Pass the following variables as keyword args: x, y. From version 0.12, the only valid positional argument will be `data`, and passing other arguments without an explicit keyword will result in an error or misinterpretation.\n",
      "  warnings.warn(\n"
     ]
    },
    {
     "data": {
      "image/png": "[encoded data removed]",
      "text/plain": [
       "<Figure size 640x480 with 1 Axes>"
      ]
     },
     "metadata": {},
     "output_type": "display_data"
    },
    {
     "data": {
      "text/html": [
       "<div>\n",
       "<style scoped>\n",
       "    .dataframe tbody tr th:only-of-type {\n",
       "        vertical-align: middle;\n",
       "    }\n",
       "\n",
       "    .dataframe tbody tr th {\n",
       "        vertical-align: top;\n",
       "    }\n",
       "\n",
       "    .dataframe thead th {\n",
       "        text-align: right;\n",
       "    }\n",
       "</style>\n",
       "<table border=\"1\" class=\"dataframe\">\n",
       "  <thead>\n",
       "    <tr style=\"text-align: right;\">\n",
       "      <th></th>\n",
       "      <th>High-Low Range</th>\n",
       "      <th>Volume</th>\n",
       "    </tr>\n",
       "  </thead>\n",
       "  <tbody>\n",
       "    <tr>\n",
       "      <th>High-Low Range</th>\n",
       "      <td>1.000000</td>\n",
       "      <td>0.438862</td>\n",
       "    </tr>\n",
       "    <tr>\n",
       "      <th>Volume</th>\n",
       "      <td>0.438862</td>\n",
       "      <td>1.000000</td>\n",
       "    </tr>\n",
       "  </tbody>\n",
       "</table>\n",
       "</div>"
      ],
      "text/plain": [
       "                High-Low Range    Volume\n",
       "High-Low Range        1.000000  0.438862\n",
       "Volume                0.438862  1.000000"
      ]
     },
     "metadata": {},
     "output_type": "display_data"
    }
   ],
   "source": [
    "# create scatter plot and corr coef\n",
    "df_ext = df[(df['Daily Return'] > df['Daily Return'].quantile(0.90)) | (df['Daily Return'] < df['Daily Return'].quantile(0.10))]\n",
    "plot_scatter_corr(df_ext, 'High-Low Range', 'Volume', 'High-Low Range vs. Volume (Extreme Daily Returns)', 'High-Low Range', 'Volume')"
   ]
  },
  {
   "cell_type": "markdown",
   "id": "a631502e-d783-414c-aa45-89837b5a88eb",
   "metadata": {},
   "source": [
    "We observe a similar trend when focsuing on both the entire dataset and the extreme value case. But interestingly, the correlation coefficient for the extreme value case is 0.44, which is lower than that for the entire dataset. This suggests a weaker positive relationship."
   ]
  },
  {
   "cell_type": "markdown",
   "id": "d6c4a7fb-a625-4c69-9918-de5f29149165",
   "metadata": {},
   "source": [
    "**High-Low Range vs Intraday Return**\n",
    "\n",
    "We are going to investigate the relationship between high-low range and the magnitude of intraday return. Just like before, we are going to compute a scatter plot and correlation coefficient."
   ]
  },
  {
   "cell_type": "code",
   "execution_count": 1473,
   "id": "425058f7-9e60-4c7d-a3d2-2d56040ba2c7",
   "metadata": {},
   "outputs": [
    {
     "name": "stderr",
     "output_type": "stream",
     "text": [
      "C:\\Users\\User\\anaconda3\\lib\\site-packages\\seaborn\\_decorators.py:36: FutureWarning: Pass the following variables as keyword args: x, y. From version 0.12, the only valid positional argument will be `data`, and passing other arguments without an explicit keyword will result in an error or misinterpretation.\n",
      "  warnings.warn(\n"
     ]
    },
    {
     "data": {
      "image/png": "[encoded data removed]",
      "text/plain": [
       "<Figure size 640x480 with 1 Axes>"
      ]
     },
     "metadata": {},
     "output_type": "display_data"
    },
    {
     "data": {
      "text/html": [
       "<div>\n",
       "<style scoped>\n",
       "    .dataframe tbody tr th:only-of-type {\n",
       "        vertical-align: middle;\n",
       "    }\n",
       "\n",
       "    .dataframe tbody tr th {\n",
       "        vertical-align: top;\n",
       "    }\n",
       "\n",
       "    .dataframe thead th {\n",
       "        text-align: right;\n",
       "    }\n",
       "</style>\n",
       "<table border=\"1\" class=\"dataframe\">\n",
       "  <thead>\n",
       "    <tr style=\"text-align: right;\">\n",
       "      <th></th>\n",
       "      <th>High-Low Range</th>\n",
       "      <th>Magnitude of Intraday Return</th>\n",
       "    </tr>\n",
       "  </thead>\n",
       "  <tbody>\n",
       "    <tr>\n",
       "      <th>High-Low Range</th>\n",
       "      <td>1.000000</td>\n",
       "      <td>0.549009</td>\n",
       "    </tr>\n",
       "    <tr>\n",
       "      <th>Magnitude of Intraday Return</th>\n",
       "      <td>0.549009</td>\n",
       "      <td>1.000000</td>\n",
       "    </tr>\n",
       "  </tbody>\n",
       "</table>\n",
       "</div>"
      ],
      "text/plain": [
       "                              High-Low Range  Magnitude of Intraday Return\n",
       "High-Low Range                      1.000000                      0.549009\n",
       "Magnitude of Intraday Return        0.549009                      1.000000"
      ]
     },
     "metadata": {},
     "output_type": "display_data"
    }
   ],
   "source": [
    "# compute the magnitude of Intraday Return (absolute value)\n",
    "df['Magnitude of Intraday Return'] = df['Intraday Return'].abs()\n",
    "\n",
    "# create scatter plot and corr coef\n",
    "plot_scatter_corr(df, 'High-Low Range', 'Magnitude of Intraday Return', 'High-Low Range vs. Magnitude of Intraday Return', 'High-Low Range', 'Magnitude of Intraday Return')"
   ]
  },
  {
   "cell_type": "markdown",
   "id": "d4d24b56-7ec9-4da1-a70c-96b6af514e3b",
   "metadata": {},
   "source": [
    "We observe a positive correlation between the High-Low Range and the magnitude of the Intraday Return, with a correlation coefficient of 0.55. The scatter plot also shows a clear positive trend. This observation is similar to what I initially expected. As larger intraday returns (in magnitude) typically correspond to larger High-Low Ranges; while days with smaller intraday returns (in magnitude) can be accompanied by either large or small High-Low Ranges."
   ]
  },
  {
   "cell_type": "markdown",
   "id": "bb744b3f-026f-4a5c-b5b8-e76cd8e45cc4",
   "metadata": {},
   "source": [
    "### Weekday Level\n",
    "In Weekday level of analysis, the dataset is going to be grouped by the day of the week to explore any potential patterns across different weekdays."
   ]
  },
  {
   "cell_type": "markdown",
   "id": "d9b65b0a-3892-4799-8cdf-11deb79d5c17",
   "metadata": {},
   "source": [
    "**Averege Returns**\n",
    "\n",
    "We are going to group the dataset by the Weekday, and then compute the average daily return."
   ]
  },
  {
   "cell_type": "code",
   "execution_count": 1579,
   "id": "c63336c7-da05-441e-bd46-5659cac2b57e",
   "metadata": {},
   "outputs": [],
   "source": [
    "# compute the average return grouped by the specified column\n",
    "def compute_average_return_by_group(df, group_by_column):\n",
    "    # group by the 'group_by_column' and compute the avg of 'Daily Return'\n",
    "    avg_returns = df.groupby(group_by_column)['Daily Return'].mean().reset_index()\n",
    "    # rename the column\n",
    "    avg_returns.rename(columns={'Daily Return': 'Average Return'}, inplace=True)\n",
    "    # sort by average return\n",
    "    avg_returns.sort_values(by='Average Return', ascending=False, inplace=True)\n",
    "    return avg_returns"
   ]
  },
  {
   "cell_type": "code",
   "execution_count": 1609,
   "id": "d756d1f4-b7e0-46ff-8f9b-f7564d55e15e",
   "metadata": {},
   "outputs": [
    {
     "data": {
      "text/html": [
       "<div>\n",
       "<style scoped>\n",
       "    .dataframe tbody tr th:only-of-type {\n",
       "        vertical-align: middle;\n",
       "    }\n",
       "\n",
       "    .dataframe tbody tr th {\n",
       "        vertical-align: top;\n",
       "    }\n",
       "\n",
       "    .dataframe thead th {\n",
       "        text-align: right;\n",
       "    }\n",
       "</style>\n",
       "<table border=\"1\" class=\"dataframe\">\n",
       "  <thead>\n",
       "    <tr style=\"text-align: right;\">\n",
       "      <th></th>\n",
       "      <th>Weekday</th>\n",
       "      <th>Average Return</th>\n",
       "    </tr>\n",
       "  </thead>\n",
       "  <tbody>\n",
       "    <tr>\n",
       "      <th>2</th>\n",
       "      <td>Thursday</td>\n",
       "      <td>0.006395</td>\n",
       "    </tr>\n",
       "    <tr>\n",
       "      <th>1</th>\n",
       "      <td>Monday</td>\n",
       "      <td>0.003717</td>\n",
       "    </tr>\n",
       "    <tr>\n",
       "      <th>3</th>\n",
       "      <td>Tuesday</td>\n",
       "      <td>0.002255</td>\n",
       "    </tr>\n",
       "    <tr>\n",
       "      <th>4</th>\n",
       "      <td>Wednesday</td>\n",
       "      <td>0.000251</td>\n",
       "    </tr>\n",
       "    <tr>\n",
       "      <th>0</th>\n",
       "      <td>Friday</td>\n",
       "      <td>-0.000841</td>\n",
       "    </tr>\n",
       "  </tbody>\n",
       "</table>\n",
       "</div>"
      ],
      "text/plain": [
       "     Weekday  Average Return\n",
       "2   Thursday        0.006395\n",
       "1     Monday        0.003717\n",
       "3    Tuesday        0.002255\n",
       "4  Wednesday        0.000251\n",
       "0     Friday       -0.000841"
      ]
     },
     "metadata": {},
     "output_type": "display_data"
    },
    {
     "data": {
      "image/png": "[encoded data removed]",
      "text/plain": [
       "<Figure size 640x480 with 1 Axes>"
      ]
     },
     "metadata": {},
     "output_type": "display_data"
    }
   ],
   "source": [
    "# compute average returns grouped by weekdays\n",
    "average_returns_by_weekday = compute_average_return_by_group(df, 'Weekday')\n",
    "display(average_returns_by_weekday)\n",
    "\n",
    "# plot bar chart\n",
    "plot_bar(average_returns_by_weekday['Weekday'],\n",
    "         average_returns_by_weekday['Average Return'],\n",
    "         'Average Returns by Weekday', 'Weekday', 'Average Return', 45)"
   ]
  },
  {
   "cell_type": "markdown",
   "id": "7139a14d-bcda-45a6-934f-0e9d74cc0edb",
   "metadata": {},
   "source": [
    "There were significant differences in the average returns across weekdays. I had expected the average returns between the groups to be similar, but it turned out that Thursdays historically yielded the highest average return of 0.64%. On the other hand, Fridays appeared to be a less favorable day for holding a long position, as they showed an average return of -0.08%."
   ]
  },
  {
   "cell_type": "markdown",
   "id": "0e7cd5e8-125c-4433-899d-5d0dccb67150",
   "metadata": {},
   "source": [
    "**Total Volumes**\n",
    "\n",
    "We are going to group the dataset by the Weekday, and then compute the total volumes."
   ]
  },
  {
   "cell_type": "code",
   "execution_count": 1661,
   "id": "c5dbac69-43d0-41ad-b93e-03b7768cbb92",
   "metadata": {},
   "outputs": [],
   "source": [
    "# compute the total traded volume grouped by the specified column\n",
    "def compute_total_volume_by_group(df, group_by_column):\n",
    "    # group by the 'group_by_column' and compute the avg of 'Daily Return'\n",
    "    total_volumes = df.groupby(group_by_column)['Volume'].sum().reset_index()\n",
    "    # rename the column\n",
    "    total_volumes.rename(columns={'Volume': 'Total Volume'}, inplace=True)\n",
    "    # sort by the total volume\n",
    "    total_volumes.sort_values(by='Total Volume', ascending=False, inplace=True)\n",
    "    return total_volumes"
   ]
  },
  {
   "cell_type": "code",
   "execution_count": 1663,
   "id": "29fe5ace-2d7d-42b5-8221-e3adeb0ec324",
   "metadata": {},
   "outputs": [
    {
     "data": {
      "text/html": [
       "<div>\n",
       "<style scoped>\n",
       "    .dataframe tbody tr th:only-of-type {\n",
       "        vertical-align: middle;\n",
       "    }\n",
       "\n",
       "    .dataframe tbody tr th {\n",
       "        vertical-align: top;\n",
       "    }\n",
       "\n",
       "    .dataframe thead th {\n",
       "        text-align: right;\n",
       "    }\n",
       "</style>\n",
       "<table border=\"1\" class=\"dataframe\">\n",
       "  <thead>\n",
       "    <tr style=\"text-align: right;\">\n",
       "      <th></th>\n",
       "      <th>Weekday</th>\n",
       "      <th>Total Volume</th>\n",
       "    </tr>\n",
       "  </thead>\n",
       "  <tbody>\n",
       "    <tr>\n",
       "      <th>2</th>\n",
       "      <td>Thursday</td>\n",
       "      <td>74567357000</td>\n",
       "    </tr>\n",
       "    <tr>\n",
       "      <th>4</th>\n",
       "      <td>Wednesday</td>\n",
       "      <td>71033310000</td>\n",
       "    </tr>\n",
       "    <tr>\n",
       "      <th>0</th>\n",
       "      <td>Friday</td>\n",
       "      <td>69985692000</td>\n",
       "    </tr>\n",
       "    <tr>\n",
       "      <th>3</th>\n",
       "      <td>Tuesday</td>\n",
       "      <td>68864430000</td>\n",
       "    </tr>\n",
       "    <tr>\n",
       "      <th>1</th>\n",
       "      <td>Monday</td>\n",
       "      <td>60881367000</td>\n",
       "    </tr>\n",
       "  </tbody>\n",
       "</table>\n",
       "</div>"
      ],
      "text/plain": [
       "     Weekday  Total Volume\n",
       "2   Thursday   74567357000\n",
       "4  Wednesday   71033310000\n",
       "0     Friday   69985692000\n",
       "3    Tuesday   68864430000\n",
       "1     Monday   60881367000"
      ]
     },
     "metadata": {},
     "output_type": "display_data"
    },
    {
     "data": {
      "image/png": "[encoded data removed]",
      "text/plain": [
       "<Figure size 640x480 with 1 Axes>"
      ]
     },
     "metadata": {},
     "output_type": "display_data"
    }
   ],
   "source": [
    "# compute total volumes grouped by weekdays\n",
    "total_volume_by_weekday = compute_total_volume_by_group(df, 'Weekday')\n",
    "display(total_volume_by_weekday)\n",
    "\n",
    "# plot bar chart\n",
    "plot_bar(total_volume_by_weekday['Weekday'],\n",
    "         total_volume_by_weekday['Total Volume'],\n",
    "         'Total Traded Volume by Weekday', 'Weekday', 'Total Volume', 45)"
   ]
  },
  {
   "cell_type": "markdown",
   "id": "4575fc2c-3e5b-4c0c-bddd-da52429ba9c5",
   "metadata": {},
   "source": [
    "We observed that Thursday had the highest total traded volume, exceeding 74 billion shares over the 3-year period. Wednesday and Friday followed closely, with 71 billion and 70 billion shares, respectively. In contrast, Monday recorded the lowest total traded volume, with only 60 billion shares.\n",
    "\n",
    "Combining this insight with the analysis of the Average Return chart from earlier, we noted that the large average return on Thursday was accompanied by high trading volume. This observation suggests a potential positive correlation between trading volume and market activity on Thursdays."
   ]
  },
  {
   "cell_type": "markdown",
   "id": "067f4980-6d3d-49fd-a59d-e48357b5e40b",
   "metadata": {},
   "source": [
    "**Annualized Standard Deviation of Daily Return**\n",
    "\n",
    "We are going to group the dataset by the Weekday, and then compute the annualized standard deciation of the daily return."
   ]
  },
  {
   "cell_type": "code",
   "execution_count": 1673,
   "id": "4dac338e-5951-41f7-b0a1-750e78da5314",
   "metadata": {},
   "outputs": [],
   "source": [
    "# compute the annualized standard deviation of returns grouped by the specified column\n",
    "def compute_annualized_std_by_group(df, group_by_column):\n",
    "    # group by the specified column and compute the std of 'Daily Return'\n",
    "    std_dev = df.groupby(group_by_column)['Daily Return'].std()\n",
    "    # annualize the standard deviation\n",
    "    annualized_std = std_dev * (252 ** 0.5)\n",
    "    # reset the index for readability\n",
    "    annualized_std = annualized_std.reset_index()\n",
    "    # rename the column\n",
    "    annualized_std.rename(columns={'Daily Return': 'Annualized Std'}, inplace=True)\n",
    "    # sort by teh Annualized Std\n",
    "    annualized_std.sort_values(by='Annualized Std', ascending=False, inplace=True)\n",
    "    return annualized_std"
   ]
  },
  {
   "cell_type": "code",
   "execution_count": 1675,
   "id": "72e0b4c9-4338-45e4-b619-b15d9fff6361",
   "metadata": {},
   "outputs": [
    {
     "data": {
      "text/html": [
       "<div>\n",
       "<style scoped>\n",
       "    .dataframe tbody tr th:only-of-type {\n",
       "        vertical-align: middle;\n",
       "    }\n",
       "\n",
       "    .dataframe tbody tr th {\n",
       "        vertical-align: top;\n",
       "    }\n",
       "\n",
       "    .dataframe thead th {\n",
       "        text-align: right;\n",
       "    }\n",
       "</style>\n",
       "<table border=\"1\" class=\"dataframe\">\n",
       "  <thead>\n",
       "    <tr style=\"text-align: right;\">\n",
       "      <th></th>\n",
       "      <th>Weekday</th>\n",
       "      <th>Annualized Std</th>\n",
       "    </tr>\n",
       "  </thead>\n",
       "  <tbody>\n",
       "    <tr>\n",
       "      <th>2</th>\n",
       "      <td>Thursday</td>\n",
       "      <td>0.680024</td>\n",
       "    </tr>\n",
       "    <tr>\n",
       "      <th>1</th>\n",
       "      <td>Monday</td>\n",
       "      <td>0.505257</td>\n",
       "    </tr>\n",
       "    <tr>\n",
       "      <th>4</th>\n",
       "      <td>Wednesday</td>\n",
       "      <td>0.487184</td>\n",
       "    </tr>\n",
       "    <tr>\n",
       "      <th>0</th>\n",
       "      <td>Friday</td>\n",
       "      <td>0.477784</td>\n",
       "    </tr>\n",
       "    <tr>\n",
       "      <th>3</th>\n",
       "      <td>Tuesday</td>\n",
       "      <td>0.468125</td>\n",
       "    </tr>\n",
       "  </tbody>\n",
       "</table>\n",
       "</div>"
      ],
      "text/plain": [
       "     Weekday  Annualized Std\n",
       "2   Thursday        0.680024\n",
       "1     Monday        0.505257\n",
       "4  Wednesday        0.487184\n",
       "0     Friday        0.477784\n",
       "3    Tuesday        0.468125"
      ]
     },
     "metadata": {},
     "output_type": "display_data"
    },
    {
     "data": {
      "image/png": "[encoded data removed]",
      "text/plain": [
       "<Figure size 640x480 with 1 Axes>"
      ]
     },
     "metadata": {},
     "output_type": "display_data"
    }
   ],
   "source": [
    "# Compute annualized standard deviation grouped by weekdays\n",
    "annualized_std_by_weekday = compute_annualized_std_by_group(df, 'Weekday')\n",
    "display(annualized_std_by_weekday)\n",
    "\n",
    "# plot bar chart\n",
    "plot_bar(annualized_std_by_weekday['Weekday'],\n",
    "         annualized_std_by_weekday['Annualized Std'],\n",
    "         'Annualized Standard Deviation by Weekday', 'Weekday', 'Standard Deviation', 45)"
   ]
  },
  {
   "cell_type": "markdown",
   "id": "d50dcc9e-7d3b-4d07-97ac-df3e35a15747",
   "metadata": {},
   "source": [
    "Based on our previous analysis, Thursday had the highest average return and total volume. It is, therefore, not surprising to see that Thursday also had the largest annualized standard deviation at 0.68, indicating very high volatility. Moreover, the gap between Thursday and the other weekdays was quite significant. For example, Monday, which had the second-highest annualized standard deviation, showed a difference of approximately 0.20."
   ]
  },
  {
   "cell_type": "markdown",
   "id": "fcc1abd5-26de-4950-adf7-9365e9a237e9",
   "metadata": {},
   "source": [
    "### Month Level\n",
    "We are moving on to grouping by Month to check for any patterns across different months."
   ]
  },
  {
   "cell_type": "markdown",
   "id": "390d8a17-3a6b-4693-a1d7-3ea2c1b89d5d",
   "metadata": {},
   "source": [
    "**Averege Returns**\n",
    "\n",
    "We are going to group the dataset by the Month, and then compute the average daily return."
   ]
  },
  {
   "cell_type": "code",
   "execution_count": 1684,
   "id": "7fed246e-0850-4d85-9eda-169ad3c4831a",
   "metadata": {},
   "outputs": [
    {
     "data": {
      "text/html": [
       "<div>\n",
       "<style scoped>\n",
       "    .dataframe tbody tr th:only-of-type {\n",
       "        vertical-align: middle;\n",
       "    }\n",
       "\n",
       "    .dataframe tbody tr th {\n",
       "        vertical-align: top;\n",
       "    }\n",
       "\n",
       "    .dataframe thead th {\n",
       "        text-align: right;\n",
       "    }\n",
       "</style>\n",
       "<table border=\"1\" class=\"dataframe\">\n",
       "  <thead>\n",
       "    <tr style=\"text-align: right;\">\n",
       "      <th></th>\n",
       "      <th>Month</th>\n",
       "      <th>Average Return</th>\n",
       "    </tr>\n",
       "  </thead>\n",
       "  <tbody>\n",
       "    <tr>\n",
       "      <th>2</th>\n",
       "      <td>11</td>\n",
       "      <td>0.010337</td>\n",
       "    </tr>\n",
       "    <tr>\n",
       "      <th>7</th>\n",
       "      <td>5</td>\n",
       "      <td>0.007317</td>\n",
       "    </tr>\n",
       "    <tr>\n",
       "      <th>4</th>\n",
       "      <td>2</td>\n",
       "      <td>0.004718</td>\n",
       "    </tr>\n",
       "    <tr>\n",
       "      <th>9</th>\n",
       "      <td>7</td>\n",
       "      <td>0.004503</td>\n",
       "    </tr>\n",
       "    <tr>\n",
       "      <th>5</th>\n",
       "      <td>3</td>\n",
       "      <td>0.004423</td>\n",
       "    </tr>\n",
       "    <tr>\n",
       "      <th>1</th>\n",
       "      <td>10</td>\n",
       "      <td>0.004356</td>\n",
       "    </tr>\n",
       "    <tr>\n",
       "      <th>0</th>\n",
       "      <td>1</td>\n",
       "      <td>0.002260</td>\n",
       "    </tr>\n",
       "    <tr>\n",
       "      <th>8</th>\n",
       "      <td>6</td>\n",
       "      <td>0.002181</td>\n",
       "    </tr>\n",
       "    <tr>\n",
       "      <th>10</th>\n",
       "      <td>8</td>\n",
       "      <td>0.000607</td>\n",
       "    </tr>\n",
       "    <tr>\n",
       "      <th>3</th>\n",
       "      <td>12</td>\n",
       "      <td>-0.002591</td>\n",
       "    </tr>\n",
       "    <tr>\n",
       "      <th>6</th>\n",
       "      <td>4</td>\n",
       "      <td>-0.004024</td>\n",
       "    </tr>\n",
       "    <tr>\n",
       "      <th>11</th>\n",
       "      <td>9</td>\n",
       "      <td>-0.006487</td>\n",
       "    </tr>\n",
       "  </tbody>\n",
       "</table>\n",
       "</div>"
      ],
      "text/plain": [
       "   Month  Average Return\n",
       "2     11        0.010337\n",
       "7      5        0.007317\n",
       "4      2        0.004718\n",
       "9      7        0.004503\n",
       "5      3        0.004423\n",
       "1     10        0.004356\n",
       "0      1        0.002260\n",
       "8      6        0.002181\n",
       "10     8        0.000607\n",
       "3     12       -0.002591\n",
       "6      4       -0.004024\n",
       "11     9       -0.006487"
      ]
     },
     "metadata": {},
     "output_type": "display_data"
    },
    {
     "data": {
      "image/png": "[encoded data removed]",
      "text/plain": [
       "<Figure size 640x480 with 1 Axes>"
      ]
     },
     "metadata": {},
     "output_type": "display_data"
    }
   ],
   "source": [
    "# Compute average returns grouped by month\n",
    "average_returns_by_month = compute_average_return_by_group(df, 'Month')\n",
    "display(average_returns_by_month)\n",
    "\n",
    "# plot bar chart\n",
    "plot_bar(average_returns_by_month['Month'],\n",
    "         average_returns_by_month['Average Return'],\n",
    "         'Average Returns by Month', 'Month', 'Average Return', 0)"
   ]
  },
  {
   "cell_type": "markdown",
   "id": "637e2524-3e2c-4813-b7c5-84240c810576",
   "metadata": {},
   "source": [
    "From the chart above, we can see that November and May stood out as the most profitable months, with average daily returns of 1.0% and 0.7%, respectively. Furthermore, the months of February, July, March, and October showed very similar performances, each with an average return of around 0.45%. In contrast, September was the least profitable month, with an average daily return of -0.65%. It is worth noting that, with a larger dataset, the average daily returns for each month would likely become more similar."
   ]
  },
  {
   "cell_type": "markdown",
   "id": "c6a37a00-da2c-4a06-b8db-9fd25f71a95d",
   "metadata": {},
   "source": [
    "**Total Volumes**\n",
    "\n",
    "We are going to group the dataset by the Month, and then compute the total volumes."
   ]
  },
  {
   "cell_type": "code",
   "execution_count": 1632,
   "id": "a4595822-2a7a-4bf4-ac8a-68b6045745d7",
   "metadata": {
    "tags": []
   },
   "outputs": [
    {
     "data": {
      "text/html": [
       "<div>\n",
       "<style scoped>\n",
       "    .dataframe tbody tr th:only-of-type {\n",
       "        vertical-align: middle;\n",
       "    }\n",
       "\n",
       "    .dataframe tbody tr th {\n",
       "        vertical-align: top;\n",
       "    }\n",
       "\n",
       "    .dataframe thead th {\n",
       "        text-align: right;\n",
       "    }\n",
       "</style>\n",
       "<table border=\"1\" class=\"dataframe\">\n",
       "  <thead>\n",
       "    <tr style=\"text-align: right;\">\n",
       "      <th></th>\n",
       "      <th>Month</th>\n",
       "      <th>Total Volume</th>\n",
       "    </tr>\n",
       "  </thead>\n",
       "  <tbody>\n",
       "    <tr>\n",
       "      <th>7</th>\n",
       "      <td>5</td>\n",
       "      <td>32585220000</td>\n",
       "    </tr>\n",
       "    <tr>\n",
       "      <th>10</th>\n",
       "      <td>8</td>\n",
       "      <td>32118186000</td>\n",
       "    </tr>\n",
       "    <tr>\n",
       "      <th>8</th>\n",
       "      <td>6</td>\n",
       "      <td>31355133000</td>\n",
       "    </tr>\n",
       "    <tr>\n",
       "      <th>5</th>\n",
       "      <td>3</td>\n",
       "      <td>30556986000</td>\n",
       "    </tr>\n",
       "    <tr>\n",
       "      <th>2</th>\n",
       "      <td>11</td>\n",
       "      <td>30556391000</td>\n",
       "    </tr>\n",
       "    <tr>\n",
       "      <th>4</th>\n",
       "      <td>2</td>\n",
       "      <td>27718073000</td>\n",
       "    </tr>\n",
       "    <tr>\n",
       "      <th>1</th>\n",
       "      <td>10</td>\n",
       "      <td>27661456000</td>\n",
       "    </tr>\n",
       "    <tr>\n",
       "      <th>3</th>\n",
       "      <td>12</td>\n",
       "      <td>27416544000</td>\n",
       "    </tr>\n",
       "    <tr>\n",
       "      <th>9</th>\n",
       "      <td>7</td>\n",
       "      <td>27094398000</td>\n",
       "    </tr>\n",
       "    <tr>\n",
       "      <th>11</th>\n",
       "      <td>9</td>\n",
       "      <td>26708837000</td>\n",
       "    </tr>\n",
       "    <tr>\n",
       "      <th>0</th>\n",
       "      <td>1</td>\n",
       "      <td>26291296000</td>\n",
       "    </tr>\n",
       "    <tr>\n",
       "      <th>6</th>\n",
       "      <td>4</td>\n",
       "      <td>25269636000</td>\n",
       "    </tr>\n",
       "  </tbody>\n",
       "</table>\n",
       "</div>"
      ],
      "text/plain": [
       "   Month  Total Volume\n",
       "7      5   32585220000\n",
       "10     8   32118186000\n",
       "8      6   31355133000\n",
       "5      3   30556986000\n",
       "2     11   30556391000\n",
       "4      2   27718073000\n",
       "1     10   27661456000\n",
       "3     12   27416544000\n",
       "9      7   27094398000\n",
       "11     9   26708837000\n",
       "0      1   26291296000\n",
       "6      4   25269636000"
      ]
     },
     "metadata": {},
     "output_type": "display_data"
    },
    {
     "data": {
      "image/png": "[encoded data removed]",
      "text/plain": [
       "<Figure size 640x480 with 1 Axes>"
      ]
     },
     "metadata": {},
     "output_type": "display_data"
    }
   ],
   "source": [
    "# compute total volumes grouped by moenth\n",
    "total_volume_by_month = compute_total_volume_by_group(df, 'Month')\n",
    "display(total_volume_by_month)\n",
    "\n",
    "# plot bar chart\n",
    "plot_bar(total_volume_by_month['Month'],\n",
    "         total_volume_by_month['Total Volume'],\n",
    "         'Total Traded Volume by Month', 'Month', 'Total Volume', 0)"
   ]
  },
  {
   "cell_type": "markdown",
   "id": "3c9dfadf-fa2b-4b2f-957a-f984962d27a3",
   "metadata": {},
   "source": [
    "The total traded volume was led by the month of May with 32.6 billion shares, and closely followed by August with 32.1 billion shares. On the other hand, April recorded the lowest total traded volume at just 25.3 billion shares.\n",
    "\n",
    "By combining analysis from the previous chart, I have noticed an interesting observation. The total traded volume in September was relatively small compared to the other months, eventhough September generated a large magnitude of return, in which we would expect a high market activity. This contrasts with May, where the large return magnitudes were accompanied by high market activity. This pattern may suggest a potential positive correlation between daily returns and traded volume."
   ]
  },
  {
   "cell_type": "markdown",
   "id": "d3635dd3-df39-44b1-a5fd-b67e1acebc1d",
   "metadata": {},
   "source": [
    "**Annualized Standard Deviation of Daily Return**\n",
    "\n",
    "We are going to group the dataset by the Month, and then compute the annualized standard deciation of the daily return."
   ]
  },
  {
   "cell_type": "code",
   "execution_count": 1677,
   "id": "a514d627-f04f-49d1-ba71-159eebd221d2",
   "metadata": {},
   "outputs": [
    {
     "data": {
      "text/html": [
       "<div>\n",
       "<style scoped>\n",
       "    .dataframe tbody tr th:only-of-type {\n",
       "        vertical-align: middle;\n",
       "    }\n",
       "\n",
       "    .dataframe tbody tr th {\n",
       "        vertical-align: top;\n",
       "    }\n",
       "\n",
       "    .dataframe thead th {\n",
       "        text-align: right;\n",
       "    }\n",
       "</style>\n",
       "<table border=\"1\" class=\"dataframe\">\n",
       "  <thead>\n",
       "    <tr style=\"text-align: right;\">\n",
       "      <th></th>\n",
       "      <th>Month</th>\n",
       "      <th>Annualized Std</th>\n",
       "    </tr>\n",
       "  </thead>\n",
       "  <tbody>\n",
       "    <tr>\n",
       "      <th>7</th>\n",
       "      <td>5</td>\n",
       "      <td>0.740653</td>\n",
       "    </tr>\n",
       "    <tr>\n",
       "      <th>4</th>\n",
       "      <td>2</td>\n",
       "      <td>0.647195</td>\n",
       "    </tr>\n",
       "    <tr>\n",
       "      <th>2</th>\n",
       "      <td>11</td>\n",
       "      <td>0.574138</td>\n",
       "    </tr>\n",
       "    <tr>\n",
       "      <th>5</th>\n",
       "      <td>3</td>\n",
       "      <td>0.543527</td>\n",
       "    </tr>\n",
       "    <tr>\n",
       "      <th>0</th>\n",
       "      <td>1</td>\n",
       "      <td>0.539568</td>\n",
       "    </tr>\n",
       "    <tr>\n",
       "      <th>3</th>\n",
       "      <td>12</td>\n",
       "      <td>0.505561</td>\n",
       "    </tr>\n",
       "    <tr>\n",
       "      <th>10</th>\n",
       "      <td>8</td>\n",
       "      <td>0.496347</td>\n",
       "    </tr>\n",
       "    <tr>\n",
       "      <th>6</th>\n",
       "      <td>4</td>\n",
       "      <td>0.482955</td>\n",
       "    </tr>\n",
       "    <tr>\n",
       "      <th>8</th>\n",
       "      <td>6</td>\n",
       "      <td>0.474419</td>\n",
       "    </tr>\n",
       "    <tr>\n",
       "      <th>1</th>\n",
       "      <td>10</td>\n",
       "      <td>0.463880</td>\n",
       "    </tr>\n",
       "    <tr>\n",
       "      <th>9</th>\n",
       "      <td>7</td>\n",
       "      <td>0.404686</td>\n",
       "    </tr>\n",
       "    <tr>\n",
       "      <th>11</th>\n",
       "      <td>9</td>\n",
       "      <td>0.379448</td>\n",
       "    </tr>\n",
       "  </tbody>\n",
       "</table>\n",
       "</div>"
      ],
      "text/plain": [
       "   Month  Annualized Std\n",
       "7      5        0.740653\n",
       "4      2        0.647195\n",
       "2     11        0.574138\n",
       "5      3        0.543527\n",
       "0      1        0.539568\n",
       "3     12        0.505561\n",
       "10     8        0.496347\n",
       "6      4        0.482955\n",
       "8      6        0.474419\n",
       "1     10        0.463880\n",
       "9      7        0.404686\n",
       "11     9        0.379448"
      ]
     },
     "metadata": {},
     "output_type": "display_data"
    },
    {
     "data": {
      "image/png": "[encoded data removed]",
      "text/plain": [
       "<Figure size 640x480 with 1 Axes>"
      ]
     },
     "metadata": {},
     "output_type": "display_data"
    }
   ],
   "source": [
    "# Compute annualized standard deviation grouped by month\n",
    "annualized_std_by_month = compute_annualized_std_by_group(df, 'Month')\n",
    "display(annualized_std_by_month)\n",
    "\n",
    "# plot bar chart\n",
    "plot_bar(annualized_std_by_month['Month'],\n",
    "         annualized_std_by_month['Annualized Std'],\n",
    "         'Annualized Standard Deviation by Month', 'Month', 'Standard Deviation', 0)"
   ]
  },
  {
   "cell_type": "markdown",
   "id": "b41cbf10-25e5-469c-a207-9c4257b510cf",
   "metadata": {},
   "source": [
    "As expected, the month of May and November had a high standard deviations at 0.741 and 0.574, respectively, since in those months, we observe a high market activity and average daily return. Moreover, we notice that September had a relatively low volatility with annualized standard deviation of only 0.38, eventhough in the same month, we observe a large average negative return."
   ]
  },
  {
   "cell_type": "markdown",
   "id": "aff0d190-1c9c-4acd-b926-66524b4378a8",
   "metadata": {},
   "source": [
    "## 4. Ask Questions About The Data"
   ]
  },
  {
   "cell_type": "code",
   "execution_count": null,
   "id": "c6895bfb-9347-464f-afdd-b5fc3c198c65",
   "metadata": {},
   "outputs": [],
   "source": []
  },
  {
   "cell_type": "code",
   "execution_count": null,
   "id": "b5dbec2b-effe-4045-8b9d-30081aa8d447",
   "metadata": {},
   "outputs": [],
   "source": []
  },
  {
   "cell_type": "code",
   "execution_count": 1478,
   "id": "533b4556-66b6-400c-b378-248e47109d18",
   "metadata": {},
   "outputs": [
    {
     "data": {
      "text/html": [
       "<div>\n",
       "<style scoped>\n",
       "    .dataframe tbody tr th:only-of-type {\n",
       "        vertical-align: middle;\n",
       "    }\n",
       "\n",
       "    .dataframe tbody tr th {\n",
       "        vertical-align: top;\n",
       "    }\n",
       "\n",
       "    .dataframe thead th {\n",
       "        text-align: right;\n",
       "    }\n",
       "</style>\n",
       "<table border=\"1\" class=\"dataframe\">\n",
       "  <thead>\n",
       "    <tr style=\"text-align: right;\">\n",
       "      <th></th>\n",
       "      <th>Open</th>\n",
       "      <th>High</th>\n",
       "      <th>Low</th>\n",
       "      <th>Close</th>\n",
       "      <th>Adj Close</th>\n",
       "      <th>Volume</th>\n",
       "      <th>Intraday Return</th>\n",
       "      <th>Daily Return</th>\n",
       "      <th>Cumulative Return</th>\n",
       "      <th>10-Day Moving Average</th>\n",
       "      <th>High-Low Range</th>\n",
       "      <th>10-day Moving Std</th>\n",
       "      <th>Weekday</th>\n",
       "      <th>Month</th>\n",
       "      <th>Year</th>\n",
       "      <th>Dividend Paid</th>\n",
       "      <th>Magnitude of Intraday Return</th>\n",
       "    </tr>\n",
       "    <tr>\n",
       "      <th>Date</th>\n",
       "      <th></th>\n",
       "      <th></th>\n",
       "      <th></th>\n",
       "      <th></th>\n",
       "      <th></th>\n",
       "      <th></th>\n",
       "      <th></th>\n",
       "      <th></th>\n",
       "      <th></th>\n",
       "      <th></th>\n",
       "      <th></th>\n",
       "      <th></th>\n",
       "      <th></th>\n",
       "      <th></th>\n",
       "      <th></th>\n",
       "      <th></th>\n",
       "      <th></th>\n",
       "    </tr>\n",
       "  </thead>\n",
       "  <tbody>\n",
       "    <tr>\n",
       "      <th>2021-01-04</th>\n",
       "      <td>13.10</td>\n",
       "      <td>13.65</td>\n",
       "      <td>12.96</td>\n",
       "      <td>13.11</td>\n",
       "      <td>13.08</td>\n",
       "      <td>560640000</td>\n",
       "      <td>-0.001527</td>\n",
       "      <td>NaN</td>\n",
       "      <td>NaN</td>\n",
       "      <td>NaN</td>\n",
       "      <td>0.69</td>\n",
       "      <td>NaN</td>\n",
       "      <td>Monday</td>\n",
       "      <td>1</td>\n",
       "      <td>2021</td>\n",
       "      <td>False</td>\n",
       "      <td>0.001527</td>\n",
       "    </tr>\n",
       "    <tr>\n",
       "      <th>2021-01-05</th>\n",
       "      <td>13.10</td>\n",
       "      <td>13.44</td>\n",
       "      <td>13.09</td>\n",
       "      <td>13.40</td>\n",
       "      <td>13.37</td>\n",
       "      <td>322760000</td>\n",
       "      <td>0.020611</td>\n",
       "      <td>0.022171</td>\n",
       "      <td>0.022171</td>\n",
       "      <td>NaN</td>\n",
       "      <td>0.35</td>\n",
       "      <td>NaN</td>\n",
       "      <td>Tuesday</td>\n",
       "      <td>1</td>\n",
       "      <td>2021</td>\n",
       "      <td>False</td>\n",
       "      <td>0.020611</td>\n",
       "    </tr>\n",
       "    <tr>\n",
       "      <th>2021-01-06</th>\n",
       "      <td>13.22</td>\n",
       "      <td>13.24</td>\n",
       "      <td>12.59</td>\n",
       "      <td>12.61</td>\n",
       "      <td>12.58</td>\n",
       "      <td>580424000</td>\n",
       "      <td>-0.048411</td>\n",
       "      <td>-0.059088</td>\n",
       "      <td>-0.038226</td>\n",
       "      <td>NaN</td>\n",
       "      <td>0.65</td>\n",
       "      <td>NaN</td>\n",
       "      <td>Wednesday</td>\n",
       "      <td>1</td>\n",
       "      <td>2021</td>\n",
       "      <td>False</td>\n",
       "      <td>0.048411</td>\n",
       "    </tr>\n",
       "    <tr>\n",
       "      <th>2021-01-07</th>\n",
       "      <td>12.97</td>\n",
       "      <td>13.38</td>\n",
       "      <td>12.89</td>\n",
       "      <td>13.34</td>\n",
       "      <td>13.31</td>\n",
       "      <td>461480000</td>\n",
       "      <td>0.026214</td>\n",
       "      <td>0.058029</td>\n",
       "      <td>0.017584</td>\n",
       "      <td>NaN</td>\n",
       "      <td>0.49</td>\n",
       "      <td>NaN</td>\n",
       "      <td>Thursday</td>\n",
       "      <td>1</td>\n",
       "      <td>2021</td>\n",
       "      <td>False</td>\n",
       "      <td>0.026214</td>\n",
       "    </tr>\n",
       "    <tr>\n",
       "      <th>2021-01-08</th>\n",
       "      <td>13.36</td>\n",
       "      <td>13.42</td>\n",
       "      <td>13.04</td>\n",
       "      <td>13.28</td>\n",
       "      <td>13.24</td>\n",
       "      <td>292528000</td>\n",
       "      <td>-0.008982</td>\n",
       "      <td>-0.005259</td>\n",
       "      <td>0.012232</td>\n",
       "      <td>NaN</td>\n",
       "      <td>0.38</td>\n",
       "      <td>NaN</td>\n",
       "      <td>Friday</td>\n",
       "      <td>1</td>\n",
       "      <td>2021</td>\n",
       "      <td>False</td>\n",
       "      <td>0.008982</td>\n",
       "    </tr>\n",
       "    <tr>\n",
       "      <th>...</th>\n",
       "      <td>...</td>\n",
       "      <td>...</td>\n",
       "      <td>...</td>\n",
       "      <td>...</td>\n",
       "      <td>...</td>\n",
       "      <td>...</td>\n",
       "      <td>...</td>\n",
       "      <td>...</td>\n",
       "      <td>...</td>\n",
       "      <td>...</td>\n",
       "      <td>...</td>\n",
       "      <td>...</td>\n",
       "      <td>...</td>\n",
       "      <td>...</td>\n",
       "      <td>...</td>\n",
       "      <td>...</td>\n",
       "      <td>...</td>\n",
       "    </tr>\n",
       "    <tr>\n",
       "      <th>2023-12-22</th>\n",
       "      <td>49.19</td>\n",
       "      <td>49.38</td>\n",
       "      <td>48.47</td>\n",
       "      <td>48.83</td>\n",
       "      <td>48.82</td>\n",
       "      <td>252507000</td>\n",
       "      <td>-0.007522</td>\n",
       "      <td>-0.003267</td>\n",
       "      <td>2.732416</td>\n",
       "      <td>48.513</td>\n",
       "      <td>0.91</td>\n",
       "      <td>0.002891</td>\n",
       "      <td>Friday</td>\n",
       "      <td>12</td>\n",
       "      <td>2023</td>\n",
       "      <td>False</td>\n",
       "      <td>0.007522</td>\n",
       "    </tr>\n",
       "    <tr>\n",
       "      <th>2023-12-26</th>\n",
       "      <td>48.97</td>\n",
       "      <td>49.60</td>\n",
       "      <td>48.96</td>\n",
       "      <td>49.28</td>\n",
       "      <td>49.27</td>\n",
       "      <td>244200000</td>\n",
       "      <td>0.006126</td>\n",
       "      <td>0.009218</td>\n",
       "      <td>2.766820</td>\n",
       "      <td>48.778</td>\n",
       "      <td>0.64</td>\n",
       "      <td>0.005665</td>\n",
       "      <td>Tuesday</td>\n",
       "      <td>12</td>\n",
       "      <td>2023</td>\n",
       "      <td>False</td>\n",
       "      <td>0.006126</td>\n",
       "    </tr>\n",
       "    <tr>\n",
       "      <th>2023-12-27</th>\n",
       "      <td>49.51</td>\n",
       "      <td>49.68</td>\n",
       "      <td>49.08</td>\n",
       "      <td>49.42</td>\n",
       "      <td>49.41</td>\n",
       "      <td>233648000</td>\n",
       "      <td>-0.002020</td>\n",
       "      <td>0.002841</td>\n",
       "      <td>2.777523</td>\n",
       "      <td>48.954</td>\n",
       "      <td>0.60</td>\n",
       "      <td>0.003740</td>\n",
       "      <td>Wednesday</td>\n",
       "      <td>12</td>\n",
       "      <td>2023</td>\n",
       "      <td>False</td>\n",
       "      <td>0.002020</td>\n",
       "    </tr>\n",
       "    <tr>\n",
       "      <th>2023-12-28</th>\n",
       "      <td>49.64</td>\n",
       "      <td>49.88</td>\n",
       "      <td>49.41</td>\n",
       "      <td>49.52</td>\n",
       "      <td>49.51</td>\n",
       "      <td>246587000</td>\n",
       "      <td>-0.002619</td>\n",
       "      <td>0.002024</td>\n",
       "      <td>2.785168</td>\n",
       "      <td>49.097</td>\n",
       "      <td>0.47</td>\n",
       "      <td>0.003040</td>\n",
       "      <td>Thursday</td>\n",
       "      <td>12</td>\n",
       "      <td>2023</td>\n",
       "      <td>False</td>\n",
       "      <td>0.002619</td>\n",
       "    </tr>\n",
       "    <tr>\n",
       "      <th>2023-12-29</th>\n",
       "      <td>49.81</td>\n",
       "      <td>50.00</td>\n",
       "      <td>48.75</td>\n",
       "      <td>49.52</td>\n",
       "      <td>49.51</td>\n",
       "      <td>389293000</td>\n",
       "      <td>-0.006023</td>\n",
       "      <td>0.000000</td>\n",
       "      <td>2.785168</td>\n",
       "      <td>49.214</td>\n",
       "      <td>1.25</td>\n",
       "      <td>0.002499</td>\n",
       "      <td>Friday</td>\n",
       "      <td>12</td>\n",
       "      <td>2023</td>\n",
       "      <td>False</td>\n",
       "      <td>0.006023</td>\n",
       "    </tr>\n",
       "  </tbody>\n",
       "</table>\n",
       "<p>753 rows × 17 columns</p>\n",
       "</div>"
      ],
      "text/plain": [
       "             Open   High    Low  Close  Adj Close     Volume  Intraday Return  \\\n",
       "Date                                                                            \n",
       "2021-01-04  13.10  13.65  12.96  13.11      13.08  560640000        -0.001527   \n",
       "2021-01-05  13.10  13.44  13.09  13.40      13.37  322760000         0.020611   \n",
       "2021-01-06  13.22  13.24  12.59  12.61      12.58  580424000        -0.048411   \n",
       "2021-01-07  12.97  13.38  12.89  13.34      13.31  461480000         0.026214   \n",
       "2021-01-08  13.36  13.42  13.04  13.28      13.24  292528000        -0.008982   \n",
       "...           ...    ...    ...    ...        ...        ...              ...   \n",
       "2023-12-22  49.19  49.38  48.47  48.83      48.82  252507000        -0.007522   \n",
       "2023-12-26  48.97  49.60  48.96  49.28      49.27  244200000         0.006126   \n",
       "2023-12-27  49.51  49.68  49.08  49.42      49.41  233648000        -0.002020   \n",
       "2023-12-28  49.64  49.88  49.41  49.52      49.51  246587000        -0.002619   \n",
       "2023-12-29  49.81  50.00  48.75  49.52      49.51  389293000        -0.006023   \n",
       "\n",
       "            Daily Return  Cumulative Return  10-Day Moving Average  \\\n",
       "Date                                                                 \n",
       "2021-01-04           NaN                NaN                    NaN   \n",
       "2021-01-05      0.022171           0.022171                    NaN   \n",
       "2021-01-06     -0.059088          -0.038226                    NaN   \n",
       "2021-01-07      0.058029           0.017584                    NaN   \n",
       "2021-01-08     -0.005259           0.012232                    NaN   \n",
       "...                  ...                ...                    ...   \n",
       "2023-12-22     -0.003267           2.732416                 48.513   \n",
       "2023-12-26      0.009218           2.766820                 48.778   \n",
       "2023-12-27      0.002841           2.777523                 48.954   \n",
       "2023-12-28      0.002024           2.785168                 49.097   \n",
       "2023-12-29      0.000000           2.785168                 49.214   \n",
       "\n",
       "            High-Low Range  10-day Moving Std    Weekday  Month  Year  \\\n",
       "Date                                                                    \n",
       "2021-01-04            0.69                NaN     Monday      1  2021   \n",
       "2021-01-05            0.35                NaN    Tuesday      1  2021   \n",
       "2021-01-06            0.65                NaN  Wednesday      1  2021   \n",
       "2021-01-07            0.49                NaN   Thursday      1  2021   \n",
       "2021-01-08            0.38                NaN     Friday      1  2021   \n",
       "...                    ...                ...        ...    ...   ...   \n",
       "2023-12-22            0.91           0.002891     Friday     12  2023   \n",
       "2023-12-26            0.64           0.005665    Tuesday     12  2023   \n",
       "2023-12-27            0.60           0.003740  Wednesday     12  2023   \n",
       "2023-12-28            0.47           0.003040   Thursday     12  2023   \n",
       "2023-12-29            1.25           0.002499     Friday     12  2023   \n",
       "\n",
       "            Dividend Paid  Magnitude of Intraday Return  \n",
       "Date                                                     \n",
       "2021-01-04          False                      0.001527  \n",
       "2021-01-05          False                      0.020611  \n",
       "2021-01-06          False                      0.048411  \n",
       "2021-01-07          False                      0.026214  \n",
       "2021-01-08          False                      0.008982  \n",
       "...                   ...                           ...  \n",
       "2023-12-22          False                      0.007522  \n",
       "2023-12-26          False                      0.006126  \n",
       "2023-12-27          False                      0.002020  \n",
       "2023-12-28          False                      0.002619  \n",
       "2023-12-29          False                      0.006023  \n",
       "\n",
       "[753 rows x 17 columns]"
      ]
     },
     "execution_count": 1478,
     "metadata": {},
     "output_type": "execute_result"
    }
   ],
   "source": [
    "df"
   ]
  },
  {
   "cell_type": "code",
   "execution_count": null,
   "id": "567c0935-619f-4e8a-8004-13b75ea28d69",
   "metadata": {},
   "outputs": [],
   "source": []
  },
  {
   "cell_type": "code",
   "execution_count": null,
   "id": "17b30b8d-301c-4600-b101-ca7560efead1",
   "metadata": {},
   "outputs": [],
   "source": []
  },
  {
   "cell_type": "code",
   "execution_count": null,
   "id": "7965ffa2-058a-43f0-8aa3-e436a04eb6e4",
   "metadata": {},
   "outputs": [],
   "source": []
  },
  {
   "cell_type": "code",
   "execution_count": null,
   "id": "002869c2-621a-40c1-999f-9c933dd7a189",
   "metadata": {},
   "outputs": [],
   "source": []
  },
  {
   "cell_type": "code",
   "execution_count": null,
   "id": "2ab5e0f0-11d1-460f-8639-f8754dabdb31",
   "metadata": {},
   "outputs": [],
   "source": []
  },
  {
   "cell_type": "code",
   "execution_count": null,
   "id": "6913b41b-8359-400c-b683-b053e704c19c",
   "metadata": {},
   "outputs": [],
   "source": []
  },
  {
   "cell_type": "code",
   "execution_count": null,
   "id": "becee2c0-da3d-48eb-a11b-fed5281a65b8",
   "metadata": {},
   "outputs": [],
   "source": []
  },
  {
   "cell_type": "markdown",
   "id": "3c911c50-b5eb-4a13-bd10-065c93ee37e5",
   "metadata": {},
   "source": [
    "If need more ideas:\n",
    "- Add S&P500 index price to compute relative strength or correlation between them."
   ]
  },
  {
   "cell_type": "code",
   "execution_count": null,
   "id": "a781aca8-5847-49c3-95f2-bbd9a4edccda",
   "metadata": {},
   "outputs": [],
   "source": []
  }
 ],
 "metadata": {
  "kernelspec": {
   "display_name": "Python 3 (ipykernel)",
   "language": "python",
   "name": "python3"
  },
  "language_info": {
   "codemirror_mode": {
    "name": "ipython",
    "version": 3
   },
   "file_extension": ".py",
   "mimetype": "text/x-python",
   "name": "python",
   "nbconvert_exporter": "python",
   "pygments_lexer": "ipython3",
   "version": "3.9.13"
  }
 },
 "nbformat": 4,
 "nbformat_minor": 5
}
